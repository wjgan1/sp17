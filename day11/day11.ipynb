{
 "cells": [
  {
   "cell_type": "markdown",
   "metadata": {},
   "source": [
    "Decision Trees are a pretty rudimentary but okay method of determining something.\n",
    "Unfortunately, decision trees are hard-coded (which goes against the whole point of ML)\n",
    "and for complex data can be tedious to make.\n",
    "\n",
    "What if we could generate a decision tree though? A simple heuristic we can do is to\n",
    "greedily split the data in a way that maximizes the uniqueness of each half. Essentially,\n",
    "what this means is that we want to partition the data so that the points in each partition\n",
    "are of the same class. Then, if a new point is in that partition, then it's likely to be in\n",
    "that class. In this simple model, we only split along a single feature, although there are\n",
    "obvious shortcomings with that.\n",
    "\n",
    "To quantify this, there is a statistic called the Gini impurity which represents what we're looking for.\n",
    "So, we want to greedily pick splits that minimizes the gini impurity. Of course, greedily splitting will\n",
    "not necessarily lead to a partition that has the optimial (aka minimal) gini impurity."
   ]
  },
  {
   "cell_type": "code",
   "execution_count": 2,
   "metadata": {
    "collapsed": true
   },
   "outputs": [],
   "source": [
    "import numpy as np\n",
    "import pandas as pd"
   ]
  },
  {
   "cell_type": "code",
   "execution_count": 3,
   "metadata": {
    "collapsed": true
   },
   "outputs": [],
   "source": [
    "def gini(values):\n",
    "    counts = {}\n",
    "    for x in values:\n",
    "        if x not in counts:\n",
    "            counts[x] = 1\n",
    "        else:\n",
    "            counts[x] += 1\n",
    "    sum = 0\n",
    "    for c in counts.values():\n",
    "        f = c/len(values)\n",
    "        sum += f*f\n",
    "    return 1-sum"
   ]
  },
  {
   "cell_type": "code",
   "execution_count": 90,
   "metadata": {
    "collapsed": true
   },
   "outputs": [],
   "source": [
    "#overfitting parameters\n",
    "impurity_threshold = 0.05\n",
    "max_depth = 3"
   ]
  },
  {
   "cell_type": "code",
   "execution_count": 91,
   "metadata": {
    "collapsed": true
   },
   "outputs": [],
   "source": [
    "classes = pd.read_csv(\"../datasets/decisiontree/sample.csv\")\n",
    "        "
   ]
  },
  {
   "cell_type": "code",
   "execution_count": 92,
   "metadata": {
    "collapsed": false
   },
   "outputs": [
    {
     "data": {
      "text/html": [
       "<div>\n",
       "<table border=\"1\" class=\"dataframe\">\n",
       "  <thead>\n",
       "    <tr style=\"text-align: right;\">\n",
       "      <th></th>\n",
       "      <th>gender</th>\n",
       "      <th>car_type</th>\n",
       "      <th>shirt_size</th>\n",
       "      <th>class</th>\n",
       "    </tr>\n",
       "  </thead>\n",
       "  <tbody>\n",
       "    <tr>\n",
       "      <th>0</th>\n",
       "      <td>M</td>\n",
       "      <td>Family</td>\n",
       "      <td>Small</td>\n",
       "      <td>C0</td>\n",
       "    </tr>\n",
       "    <tr>\n",
       "      <th>1</th>\n",
       "      <td>M</td>\n",
       "      <td>Sports</td>\n",
       "      <td>Medium</td>\n",
       "      <td>C0</td>\n",
       "    </tr>\n",
       "    <tr>\n",
       "      <th>2</th>\n",
       "      <td>M</td>\n",
       "      <td>Sports</td>\n",
       "      <td>Medium</td>\n",
       "      <td>C0</td>\n",
       "    </tr>\n",
       "    <tr>\n",
       "      <th>3</th>\n",
       "      <td>M</td>\n",
       "      <td>Sports</td>\n",
       "      <td>Large</td>\n",
       "      <td>C0</td>\n",
       "    </tr>\n",
       "    <tr>\n",
       "      <th>4</th>\n",
       "      <td>M</td>\n",
       "      <td>Sports</td>\n",
       "      <td>Extra Large</td>\n",
       "      <td>C0</td>\n",
       "    </tr>\n",
       "    <tr>\n",
       "      <th>5</th>\n",
       "      <td>M</td>\n",
       "      <td>Sports</td>\n",
       "      <td>Extra Large</td>\n",
       "      <td>C0</td>\n",
       "    </tr>\n",
       "    <tr>\n",
       "      <th>6</th>\n",
       "      <td>F</td>\n",
       "      <td>Sports</td>\n",
       "      <td>Small</td>\n",
       "      <td>C0</td>\n",
       "    </tr>\n",
       "    <tr>\n",
       "      <th>7</th>\n",
       "      <td>F</td>\n",
       "      <td>Sports</td>\n",
       "      <td>Small</td>\n",
       "      <td>C0</td>\n",
       "    </tr>\n",
       "    <tr>\n",
       "      <th>8</th>\n",
       "      <td>F</td>\n",
       "      <td>Sports</td>\n",
       "      <td>Medium</td>\n",
       "      <td>C0</td>\n",
       "    </tr>\n",
       "    <tr>\n",
       "      <th>9</th>\n",
       "      <td>F</td>\n",
       "      <td>Luxury</td>\n",
       "      <td>Large</td>\n",
       "      <td>C0</td>\n",
       "    </tr>\n",
       "    <tr>\n",
       "      <th>10</th>\n",
       "      <td>M</td>\n",
       "      <td>Family</td>\n",
       "      <td>Large</td>\n",
       "      <td>C1</td>\n",
       "    </tr>\n",
       "    <tr>\n",
       "      <th>11</th>\n",
       "      <td>M</td>\n",
       "      <td>Family</td>\n",
       "      <td>Extra Large</td>\n",
       "      <td>C1</td>\n",
       "    </tr>\n",
       "    <tr>\n",
       "      <th>12</th>\n",
       "      <td>M</td>\n",
       "      <td>Family</td>\n",
       "      <td>Medium</td>\n",
       "      <td>C1</td>\n",
       "    </tr>\n",
       "    <tr>\n",
       "      <th>13</th>\n",
       "      <td>M</td>\n",
       "      <td>Luxury</td>\n",
       "      <td>Extra Large</td>\n",
       "      <td>C1</td>\n",
       "    </tr>\n",
       "    <tr>\n",
       "      <th>14</th>\n",
       "      <td>F</td>\n",
       "      <td>Luxury</td>\n",
       "      <td>Small</td>\n",
       "      <td>C1</td>\n",
       "    </tr>\n",
       "    <tr>\n",
       "      <th>15</th>\n",
       "      <td>F</td>\n",
       "      <td>Luxury</td>\n",
       "      <td>Small</td>\n",
       "      <td>C1</td>\n",
       "    </tr>\n",
       "    <tr>\n",
       "      <th>16</th>\n",
       "      <td>F</td>\n",
       "      <td>Luxury</td>\n",
       "      <td>Medium</td>\n",
       "      <td>C1</td>\n",
       "    </tr>\n",
       "    <tr>\n",
       "      <th>17</th>\n",
       "      <td>F</td>\n",
       "      <td>Luxury</td>\n",
       "      <td>Medium</td>\n",
       "      <td>C1</td>\n",
       "    </tr>\n",
       "    <tr>\n",
       "      <th>18</th>\n",
       "      <td>F</td>\n",
       "      <td>Luxury</td>\n",
       "      <td>Medium</td>\n",
       "      <td>C1</td>\n",
       "    </tr>\n",
       "    <tr>\n",
       "      <th>19</th>\n",
       "      <td>F</td>\n",
       "      <td>Luxury</td>\n",
       "      <td>Large</td>\n",
       "      <td>C1</td>\n",
       "    </tr>\n",
       "  </tbody>\n",
       "</table>\n",
       "</div>"
      ],
      "text/plain": [
       "   gender car_type   shirt_size class\n",
       "0       M   Family        Small    C0\n",
       "1       M   Sports       Medium    C0\n",
       "2       M   Sports       Medium    C0\n",
       "3       M   Sports        Large    C0\n",
       "4       M   Sports  Extra Large    C0\n",
       "5       M   Sports  Extra Large    C0\n",
       "6       F   Sports        Small    C0\n",
       "7       F   Sports        Small    C0\n",
       "8       F   Sports       Medium    C0\n",
       "9       F   Luxury        Large    C0\n",
       "10      M   Family        Large    C1\n",
       "11      M   Family  Extra Large    C1\n",
       "12      M   Family       Medium    C1\n",
       "13      M   Luxury  Extra Large    C1\n",
       "14      F   Luxury        Small    C1\n",
       "15      F   Luxury        Small    C1\n",
       "16      F   Luxury       Medium    C1\n",
       "17      F   Luxury       Medium    C1\n",
       "18      F   Luxury       Medium    C1\n",
       "19      F   Luxury        Large    C1"
      ]
     },
     "execution_count": 92,
     "metadata": {},
     "output_type": "execute_result"
    }
   ],
   "source": [
    "classes"
   ]
  },
  {
   "cell_type": "code",
   "execution_count": 93,
   "metadata": {
    "collapsed": false
   },
   "outputs": [
    {
     "data": {
      "text/plain": [
       "2"
      ]
     },
     "execution_count": 93,
     "metadata": {},
     "output_type": "execute_result"
    }
   ],
   "source": [
    "len(classes.groupby('gender'))"
   ]
  },
  {
   "cell_type": "code",
   "execution_count": 94,
   "metadata": {
    "collapsed": false
   },
   "outputs": [
    {
     "name": "stdout",
     "output_type": "stream",
     "text": [
      "<class 'pandas.core.frame.DataFrame'>\n",
      "('F',    gender car_type shirt_size class\n",
      "6       F   Sports      Small    C0\n",
      "7       F   Sports      Small    C0\n",
      "8       F   Sports     Medium    C0\n",
      "9       F   Luxury      Large    C0\n",
      "14      F   Luxury      Small    C1\n",
      "15      F   Luxury      Small    C1\n",
      "16      F   Luxury     Medium    C1\n",
      "17      F   Luxury     Medium    C1\n",
      "18      F   Luxury     Medium    C1\n",
      "19      F   Luxury      Large    C1)\n",
      "<class 'pandas.core.frame.DataFrame'>\n",
      "('M',    gender car_type   shirt_size class\n",
      "0       M   Family        Small    C0\n",
      "1       M   Sports       Medium    C0\n",
      "2       M   Sports       Medium    C0\n",
      "3       M   Sports        Large    C0\n",
      "4       M   Sports  Extra Large    C0\n",
      "5       M   Sports  Extra Large    C0\n",
      "10      M   Family        Large    C1\n",
      "11      M   Family  Extra Large    C1\n",
      "12      M   Family       Medium    C1\n",
      "13      M   Luxury  Extra Large    C1)\n"
     ]
    }
   ],
   "source": [
    "for group in classes.groupby('gender'):\n",
    "    print(type(group[1]))\n",
    "    print(group)"
   ]
  },
  {
   "cell_type": "code",
   "execution_count": 95,
   "metadata": {
    "collapsed": false
   },
   "outputs": [
    {
     "name": "stdout",
     "output_type": "stream",
     "text": [
      "<class 'str'>\n",
      "gender\n",
      "<class 'str'>\n",
      "car_type\n",
      "<class 'str'>\n",
      "shirt_size\n",
      "<class 'str'>\n",
      "class\n"
     ]
    }
   ],
   "source": [
    "for column in classes.columns:\n",
    "    print(type(column))\n",
    "    print(column)"
   ]
  },
  {
   "cell_type": "code",
   "execution_count": 96,
   "metadata": {
    "collapsed": false
   },
   "outputs": [
    {
     "data": {
      "text/plain": [
       "0     C0\n",
       "1     C0\n",
       "2     C0\n",
       "3     C0\n",
       "4     C0\n",
       "5     C0\n",
       "6     C0\n",
       "7     C0\n",
       "8     C0\n",
       "9     C0\n",
       "10    C1\n",
       "11    C1\n",
       "12    C1\n",
       "13    C1\n",
       "14    C1\n",
       "15    C1\n",
       "16    C1\n",
       "17    C1\n",
       "18    C1\n",
       "19    C1\n",
       "Name: class, dtype: object"
      ]
     },
     "execution_count": 96,
     "metadata": {},
     "output_type": "execute_result"
    }
   ],
   "source": [
    "classes['class']"
   ]
  },
  {
   "cell_type": "code",
   "execution_count": 97,
   "metadata": {
    "collapsed": false,
    "scrolled": true
   },
   "outputs": [
    {
     "data": {
      "text/plain": [
       "pandas.core.series.Series"
      ]
     },
     "execution_count": 97,
     "metadata": {},
     "output_type": "execute_result"
    }
   ],
   "source": [
    "type(classes['class'])"
   ]
  },
  {
   "cell_type": "code",
   "execution_count": 98,
   "metadata": {
    "collapsed": false
   },
   "outputs": [
    {
     "data": {
      "text/plain": [
       "<memory at 0x10ac98a08>"
      ]
     },
     "execution_count": 98,
     "metadata": {},
     "output_type": "execute_result"
    }
   ],
   "source": [
    "classes['class'].data"
   ]
  },
  {
   "cell_type": "code",
   "execution_count": 104,
   "metadata": {
    "collapsed": true
   },
   "outputs": [],
   "source": [
    "#takes in pandas dataframe\n",
    "def discrete_split(df):\n",
    "    initial_gini = gini(df['class'])\n",
    "    best_gini_improvement = impurity_threshold\n",
    "    split = None\n",
    "    best_column = None\n",
    "    for column in df.columns:\n",
    "        if column == 'class':\n",
    "            continue\n",
    "        gini_split = 0\n",
    "        groups = df.groupby(column)\n",
    "        for c,group in groups:\n",
    "            gini_split += gini(group['class'])\n",
    "        gini_split /= len(groups)\n",
    "        improvement = initial_gini-gini_split\n",
    "        if improvement > best_gini_improvement:\n",
    "            split = groups\n",
    "            best_gini_improvement = improvement\n",
    "            best_column = column\n",
    "    return (split, best_column)"
   ]
  },
  {
   "cell_type": "code",
   "execution_count": 105,
   "metadata": {
    "collapsed": true
   },
   "outputs": [],
   "source": [
    "def most_common(values):\n",
    "    counts = {}\n",
    "    for x in values:\n",
    "        if x not in counts:\n",
    "            counts[x] = 1\n",
    "        else:\n",
    "            counts[x] += 1\n",
    "    return max(counts,key=lambda x: counts[x])"
   ]
  },
  {
   "cell_type": "code",
   "execution_count": 106,
   "metadata": {
    "collapsed": true
   },
   "outputs": [],
   "source": [
    "def discrete_decision_tree(df,depth=0):\n",
    "    if depth >= max_depth:\n",
    "        prediction = most_common(df['class'])\n",
    "        return (lambda x: prediction)\n",
    "    #print(discrete_split(df))\n",
    "    split,column = discrete_split(df)\n",
    "    if split is None:\n",
    "        prediction = most_common(df['class'])\n",
    "        return (lambda x: prediction)\n",
    "    else:\n",
    "        child_trees = {}\n",
    "        for c, group in split:\n",
    "            child_trees[c] = discrete_decision_tree(group,depth+1)\n",
    "        def predict(series):\n",
    "            #print(series)\n",
    "            #print(column)\n",
    "            assert column in series\n",
    "            assert series[column] in child_trees\n",
    "            return child_trees[series[column]](series)\n",
    "        return predict"
   ]
  },
  {
   "cell_type": "code",
   "execution_count": 107,
   "metadata": {
    "collapsed": false
   },
   "outputs": [
    {
     "name": "stdout",
     "output_type": "stream",
     "text": [
      "C0\n",
      "C0\n",
      "C0\n",
      "C0\n",
      "C0\n",
      "C0\n",
      "C0\n",
      "C0\n",
      "C0\n",
      "C0\n",
      "C1\n",
      "C1\n",
      "C1\n",
      "C1\n",
      "C1\n",
      "C1\n",
      "C1\n",
      "C1\n",
      "C1\n",
      "C0\n"
     ]
    }
   ],
   "source": [
    "predict = discrete_decision_tree(classes)\n",
    "test_predict_data = classes.drop('class',axis=1)\n",
    "for i in range(0,len(test_predict_data)):\n",
    "    print(predict(test_predict_data[i:i+1].squeeze()))"
   ]
  }
 ],
 "metadata": {
  "kernelspec": {
   "display_name": "Python 3",
   "language": "python",
   "name": "python3"
  },
  "language_info": {
   "codemirror_mode": {
    "name": "ipython",
    "version": 3
   },
   "file_extension": ".py",
   "mimetype": "text/x-python",
   "name": "python",
   "nbconvert_exporter": "python",
   "pygments_lexer": "ipython3",
   "version": "3.6.0"
  }
 },
 "nbformat": 4,
 "nbformat_minor": 2
}
