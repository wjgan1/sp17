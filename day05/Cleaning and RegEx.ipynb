{
 "cells": [
  {
   "cell_type": "markdown",
   "metadata": {},
   "source": [
    "## Filling in Age Missing Values"
   ]
  },
  {
   "cell_type": "code",
   "execution_count": 1,
   "metadata": {
    "collapsed": true
   },
   "outputs": [],
   "source": [
    "%matplotlib inline\n",
    "\n",
    "#Importing Modules\n",
    "from pandas import DataFrame, Series\n",
    "import numpy as np\n",
    "import pandas as pd\n",
    "import matplotlib.pyplot as plt\n",
    "import seaborn as sns"
   ]
  },
  {
   "cell_type": "code",
   "execution_count": 15,
   "metadata": {
    "collapsed": false
   },
   "outputs": [],
   "source": [
    "# Reading Data\n",
    "df = pd.read_csv('~/Desktop/kaggledecal/datasets/titanic/train.csv')"
   ]
  },
  {
   "cell_type": "code",
   "execution_count": 16,
   "metadata": {
    "collapsed": false
   },
   "outputs": [
    {
     "data": {
      "image/png": "[encoded data removed]",
      "text/plain": [
       "<matplotlib.figure.Figure at 0x119882668>"
      ]
     },
     "metadata": {},
     "output_type": "display_data"
    }
   ],
   "source": [
    "fig, axes = plt.subplots(1,2,sharey=True)\n",
    "\n",
    "sns.set_style(\"white\")\n",
    "\n",
    "df['Age'].hist(bins=20,ax=axes[0])\n",
    "axes[0].set_title('Distribution of All Ages (Missing)')\n",
    "axes[0].set_xlabel('Age')\n",
    "axes[0].set_ylabel('Counts')\n",
    "\n",
    "df['Age'].fillna(df.Age.median(),inplace=True)\n",
    "df['Age'].hist(bins=20,ax=axes[1])\n",
    "axes[1].set_title('Distribution of All Ages (Imputed)')\n",
    "axes[1].set_xlabel('Age')\n",
    "axes[1].set_ylabel('Counts')\n",
    "fig.tight_layout()\n",
    "\n"
   ]
  },
  {
   "cell_type": "code",
   "execution_count": 25,
   "metadata": {
    "collapsed": false
   },
   "outputs": [
    {
     "data": {
      "text/html": [
       "<div>\n",
       "<table border=\"1\" class=\"dataframe\">\n",
       "  <thead>\n",
       "    <tr style=\"text-align: right;\">\n",
       "      <th></th>\n",
       "      <th>PassengerId</th>\n",
       "      <th>Survived</th>\n",
       "      <th>Pclass</th>\n",
       "      <th>Name</th>\n",
       "      <th>Sex</th>\n",
       "      <th>Age</th>\n",
       "      <th>SibSp</th>\n",
       "      <th>Parch</th>\n",
       "      <th>Ticket</th>\n",
       "      <th>Fare</th>\n",
       "      <th>Cabin</th>\n",
       "      <th>Embarked</th>\n",
       "      <th>title</th>\n",
       "    </tr>\n",
       "  </thead>\n",
       "  <tbody>\n",
       "    <tr>\n",
       "      <th>0</th>\n",
       "      <td>1</td>\n",
       "      <td>0</td>\n",
       "      <td>3</td>\n",
       "      <td>Braund, Mr. Owen Harris</td>\n",
       "      <td>male</td>\n",
       "      <td>22.0</td>\n",
       "      <td>1</td>\n",
       "      <td>0</td>\n",
       "      <td>A/5 21171</td>\n",
       "      <td>7.2500</td>\n",
       "      <td>NaN</td>\n",
       "      <td>S</td>\n",
       "      <td>Mr</td>\n",
       "    </tr>\n",
       "    <tr>\n",
       "      <th>1</th>\n",
       "      <td>2</td>\n",
       "      <td>1</td>\n",
       "      <td>1</td>\n",
       "      <td>Cumings, Mrs. John Bradley (Florence Briggs Th...</td>\n",
       "      <td>female</td>\n",
       "      <td>38.0</td>\n",
       "      <td>1</td>\n",
       "      <td>0</td>\n",
       "      <td>PC 17599</td>\n",
       "      <td>71.2833</td>\n",
       "      <td>C85</td>\n",
       "      <td>C</td>\n",
       "      <td>Mrs</td>\n",
       "    </tr>\n",
       "    <tr>\n",
       "      <th>2</th>\n",
       "      <td>3</td>\n",
       "      <td>1</td>\n",
       "      <td>3</td>\n",
       "      <td>Heikkinen, Miss. Laina</td>\n",
       "      <td>female</td>\n",
       "      <td>26.0</td>\n",
       "      <td>0</td>\n",
       "      <td>0</td>\n",
       "      <td>STON/O2. 3101282</td>\n",
       "      <td>7.9250</td>\n",
       "      <td>NaN</td>\n",
       "      <td>S</td>\n",
       "      <td>Miss</td>\n",
       "    </tr>\n",
       "    <tr>\n",
       "      <th>3</th>\n",
       "      <td>4</td>\n",
       "      <td>1</td>\n",
       "      <td>1</td>\n",
       "      <td>Futrelle, Mrs. Jacques Heath (Lily May Peel)</td>\n",
       "      <td>female</td>\n",
       "      <td>35.0</td>\n",
       "      <td>1</td>\n",
       "      <td>0</td>\n",
       "      <td>113803</td>\n",
       "      <td>53.1000</td>\n",
       "      <td>C123</td>\n",
       "      <td>S</td>\n",
       "      <td>Mrs</td>\n",
       "    </tr>\n",
       "    <tr>\n",
       "      <th>4</th>\n",
       "      <td>5</td>\n",
       "      <td>0</td>\n",
       "      <td>3</td>\n",
       "      <td>Allen, Mr. William Henry</td>\n",
       "      <td>male</td>\n",
       "      <td>35.0</td>\n",
       "      <td>0</td>\n",
       "      <td>0</td>\n",
       "      <td>373450</td>\n",
       "      <td>8.0500</td>\n",
       "      <td>NaN</td>\n",
       "      <td>S</td>\n",
       "      <td>Mr</td>\n",
       "    </tr>\n",
       "  </tbody>\n",
       "</table>\n",
       "</div>"
      ],
      "text/plain": [
       "   PassengerId  Survived  Pclass  \\\n",
       "0            1         0       3   \n",
       "1            2         1       1   \n",
       "2            3         1       3   \n",
       "3            4         1       1   \n",
       "4            5         0       3   \n",
       "\n",
       "                                                Name     Sex   Age  SibSp  \\\n",
       "0                            Braund, Mr. Owen Harris    male  22.0      1   \n",
       "1  Cumings, Mrs. John Bradley (Florence Briggs Th...  female  38.0      1   \n",
       "2                             Heikkinen, Miss. Laina  female  26.0      0   \n",
       "3       Futrelle, Mrs. Jacques Heath (Lily May Peel)  female  35.0      1   \n",
       "4                           Allen, Mr. William Henry    male  35.0      0   \n",
       "\n",
       "   Parch            Ticket     Fare Cabin Embarked title  \n",
       "0      0         A/5 21171   7.2500   NaN        S    Mr  \n",
       "1      0          PC 17599  71.2833   C85        C   Mrs  \n",
       "2      0  STON/O2. 3101282   7.9250   NaN        S  Miss  \n",
       "3      0            113803  53.1000  C123        S   Mrs  \n",
       "4      0            373450   8.0500   NaN        S    Mr  "
      ]
     },
     "execution_count": 25,
     "metadata": {},
     "output_type": "execute_result"
    }
   ],
   "source": [
    "sns.set() #To reset seaborn styles\n",
    "\n",
    "df = pd.read_csv('~/Desktop/kaggledecal/datasets/titanic/train.csv')\n",
    "df['title'] = 'other'\n",
    "df.loc[['Master.' in n for n in df['Name']],'title'] = 'Master'\n",
    "df.loc[['Miss.' in n for n in df['Name']],'title'] = 'Miss'\n",
    "df.loc[['Mr.' in n for n in df['Name']],'title'] = 'Mr'\n",
    "df.loc[['Mrs.' in n for n in df['Name']],'title'] = 'Mrs'\n",
    "df.head()"
   ]
  },
  {
   "cell_type": "code",
   "execution_count": 26,
   "metadata": {
    "collapsed": false
   },
   "outputs": [
    {
     "data": {
      "text/plain": [
       "title\n",
       "Master     4.574167\n",
       "Miss      21.773973\n",
       "Mr        32.368090\n",
       "Mrs       35.898148\n",
       "other     42.384615\n",
       "Name: Age, dtype: float64"
      ]
     },
     "execution_count": 26,
     "metadata": {},
     "output_type": "execute_result"
    }
   ],
   "source": [
    "df.groupby('title')['Age'].mean() #Mean age is different per title"
   ]
  },
  {
   "cell_type": "markdown",
   "metadata": {},
   "source": [
    "### Brief Aside - Subsetting Guide to loc, iloc, and ix"
   ]
  },
  {
   "cell_type": "code",
   "execution_count": 27,
   "metadata": {
    "collapsed": false
   },
   "outputs": [
    {
     "data": {
      "text/html": [
       "<div>\n",
       "<table border=\"1\" class=\"dataframe\">\n",
       "  <thead>\n",
       "    <tr style=\"text-align: right;\">\n",
       "      <th></th>\n",
       "      <th>PassengerId</th>\n",
       "      <th>Survived</th>\n",
       "      <th>Pclass</th>\n",
       "      <th>Name</th>\n",
       "      <th>Sex</th>\n",
       "      <th>Age</th>\n",
       "      <th>SibSp</th>\n",
       "      <th>Parch</th>\n",
       "      <th>Ticket</th>\n",
       "      <th>Fare</th>\n",
       "      <th>Cabin</th>\n",
       "      <th>Embarked</th>\n",
       "      <th>title</th>\n",
       "    </tr>\n",
       "  </thead>\n",
       "  <tbody>\n",
       "    <tr>\n",
       "      <th>0</th>\n",
       "      <td>1</td>\n",
       "      <td>0</td>\n",
       "      <td>3</td>\n",
       "      <td>Braund, Mr. Owen Harris</td>\n",
       "      <td>male</td>\n",
       "      <td>22.0</td>\n",
       "      <td>1</td>\n",
       "      <td>0</td>\n",
       "      <td>A/5 21171</td>\n",
       "      <td>7.2500</td>\n",
       "      <td>NaN</td>\n",
       "      <td>S</td>\n",
       "      <td>Mr</td>\n",
       "    </tr>\n",
       "    <tr>\n",
       "      <th>1</th>\n",
       "      <td>2</td>\n",
       "      <td>1</td>\n",
       "      <td>1</td>\n",
       "      <td>Cumings, Mrs. John Bradley (Florence Briggs Th...</td>\n",
       "      <td>female</td>\n",
       "      <td>38.0</td>\n",
       "      <td>1</td>\n",
       "      <td>0</td>\n",
       "      <td>PC 17599</td>\n",
       "      <td>71.2833</td>\n",
       "      <td>C85</td>\n",
       "      <td>C</td>\n",
       "      <td>Mrs</td>\n",
       "    </tr>\n",
       "    <tr>\n",
       "      <th>2</th>\n",
       "      <td>3</td>\n",
       "      <td>1</td>\n",
       "      <td>3</td>\n",
       "      <td>Heikkinen, Miss. Laina</td>\n",
       "      <td>female</td>\n",
       "      <td>26.0</td>\n",
       "      <td>0</td>\n",
       "      <td>0</td>\n",
       "      <td>STON/O2. 3101282</td>\n",
       "      <td>7.9250</td>\n",
       "      <td>NaN</td>\n",
       "      <td>S</td>\n",
       "      <td>Miss</td>\n",
       "    </tr>\n",
       "    <tr>\n",
       "      <th>3</th>\n",
       "      <td>4</td>\n",
       "      <td>1</td>\n",
       "      <td>1</td>\n",
       "      <td>Futrelle, Mrs. Jacques Heath (Lily May Peel)</td>\n",
       "      <td>female</td>\n",
       "      <td>35.0</td>\n",
       "      <td>1</td>\n",
       "      <td>0</td>\n",
       "      <td>113803</td>\n",
       "      <td>53.1000</td>\n",
       "      <td>C123</td>\n",
       "      <td>S</td>\n",
       "      <td>Mrs</td>\n",
       "    </tr>\n",
       "    <tr>\n",
       "      <th>4</th>\n",
       "      <td>5</td>\n",
       "      <td>0</td>\n",
       "      <td>3</td>\n",
       "      <td>Allen, Mr. William Henry</td>\n",
       "      <td>male</td>\n",
       "      <td>35.0</td>\n",
       "      <td>0</td>\n",
       "      <td>0</td>\n",
       "      <td>373450</td>\n",
       "      <td>8.0500</td>\n",
       "      <td>NaN</td>\n",
       "      <td>S</td>\n",
       "      <td>Mr</td>\n",
       "    </tr>\n",
       "  </tbody>\n",
       "</table>\n",
       "</div>"
      ],
      "text/plain": [
       "   PassengerId  Survived  Pclass  \\\n",
       "0            1         0       3   \n",
       "1            2         1       1   \n",
       "2            3         1       3   \n",
       "3            4         1       1   \n",
       "4            5         0       3   \n",
       "\n",
       "                                                Name     Sex   Age  SibSp  \\\n",
       "0                            Braund, Mr. Owen Harris    male  22.0      1   \n",
       "1  Cumings, Mrs. John Bradley (Florence Briggs Th...  female  38.0      1   \n",
       "2                             Heikkinen, Miss. Laina  female  26.0      0   \n",
       "3       Futrelle, Mrs. Jacques Heath (Lily May Peel)  female  35.0      1   \n",
       "4                           Allen, Mr. William Henry    male  35.0      0   \n",
       "\n",
       "   Parch            Ticket     Fare Cabin Embarked title  \n",
       "0      0         A/5 21171   7.2500   NaN        S    Mr  \n",
       "1      0          PC 17599  71.2833   C85        C   Mrs  \n",
       "2      0  STON/O2. 3101282   7.9250   NaN        S  Miss  \n",
       "3      0            113803  53.1000  C123        S   Mrs  \n",
       "4      0            373450   8.0500   NaN        S    Mr  "
      ]
     },
     "execution_count": 27,
     "metadata": {},
     "output_type": "execute_result"
    }
   ],
   "source": [
    "#use loc if you plan on indexing by the index label of a dataframe, e.g.\n",
    "df.head()"
   ]
  },
  {
   "cell_type": "code",
   "execution_count": 28,
   "metadata": {
    "collapsed": false
   },
   "outputs": [
    {
     "data": {
      "text/html": [
       "<div>\n",
       "<table border=\"1\" class=\"dataframe\">\n",
       "  <thead>\n",
       "    <tr style=\"text-align: right;\">\n",
       "      <th></th>\n",
       "      <th>PassengerId</th>\n",
       "      <th>Survived</th>\n",
       "      <th>Pclass</th>\n",
       "      <th>Name</th>\n",
       "      <th>Sex</th>\n",
       "      <th>Age</th>\n",
       "      <th>SibSp</th>\n",
       "      <th>Parch</th>\n",
       "      <th>Ticket</th>\n",
       "      <th>Fare</th>\n",
       "      <th>Cabin</th>\n",
       "      <th>Embarked</th>\n",
       "      <th>title</th>\n",
       "    </tr>\n",
       "  </thead>\n",
       "  <tbody>\n",
       "    <tr>\n",
       "      <th>-1</th>\n",
       "      <td>1</td>\n",
       "      <td>0</td>\n",
       "      <td>3</td>\n",
       "      <td>Braund, Mr. Owen Harris</td>\n",
       "      <td>male</td>\n",
       "      <td>22.0</td>\n",
       "      <td>1</td>\n",
       "      <td>0</td>\n",
       "      <td>A/5 21171</td>\n",
       "      <td>7.2500</td>\n",
       "      <td>NaN</td>\n",
       "      <td>S</td>\n",
       "      <td>Mr</td>\n",
       "    </tr>\n",
       "    <tr>\n",
       "      <th>0</th>\n",
       "      <td>2</td>\n",
       "      <td>1</td>\n",
       "      <td>1</td>\n",
       "      <td>Cumings, Mrs. John Bradley (Florence Briggs Th...</td>\n",
       "      <td>female</td>\n",
       "      <td>38.0</td>\n",
       "      <td>1</td>\n",
       "      <td>0</td>\n",
       "      <td>PC 17599</td>\n",
       "      <td>71.2833</td>\n",
       "      <td>C85</td>\n",
       "      <td>C</td>\n",
       "      <td>Mrs</td>\n",
       "    </tr>\n",
       "    <tr>\n",
       "      <th>1</th>\n",
       "      <td>3</td>\n",
       "      <td>1</td>\n",
       "      <td>3</td>\n",
       "      <td>Heikkinen, Miss. Laina</td>\n",
       "      <td>female</td>\n",
       "      <td>26.0</td>\n",
       "      <td>0</td>\n",
       "      <td>0</td>\n",
       "      <td>STON/O2. 3101282</td>\n",
       "      <td>7.9250</td>\n",
       "      <td>NaN</td>\n",
       "      <td>S</td>\n",
       "      <td>Miss</td>\n",
       "    </tr>\n",
       "    <tr>\n",
       "      <th>2</th>\n",
       "      <td>4</td>\n",
       "      <td>1</td>\n",
       "      <td>1</td>\n",
       "      <td>Futrelle, Mrs. Jacques Heath (Lily May Peel)</td>\n",
       "      <td>female</td>\n",
       "      <td>35.0</td>\n",
       "      <td>1</td>\n",
       "      <td>0</td>\n",
       "      <td>113803</td>\n",
       "      <td>53.1000</td>\n",
       "      <td>C123</td>\n",
       "      <td>S</td>\n",
       "      <td>Mrs</td>\n",
       "    </tr>\n",
       "    <tr>\n",
       "      <th>3</th>\n",
       "      <td>5</td>\n",
       "      <td>0</td>\n",
       "      <td>3</td>\n",
       "      <td>Allen, Mr. William Henry</td>\n",
       "      <td>male</td>\n",
       "      <td>35.0</td>\n",
       "      <td>0</td>\n",
       "      <td>0</td>\n",
       "      <td>373450</td>\n",
       "      <td>8.0500</td>\n",
       "      <td>NaN</td>\n",
       "      <td>S</td>\n",
       "      <td>Mr</td>\n",
       "    </tr>\n",
       "  </tbody>\n",
       "</table>\n",
       "</div>"
      ],
      "text/plain": [
       "    PassengerId  Survived  Pclass  \\\n",
       "-1            1         0       3   \n",
       " 0            2         1       1   \n",
       " 1            3         1       3   \n",
       " 2            4         1       1   \n",
       " 3            5         0       3   \n",
       "\n",
       "                                                 Name     Sex   Age  SibSp  \\\n",
       "-1                            Braund, Mr. Owen Harris    male  22.0      1   \n",
       " 0  Cumings, Mrs. John Bradley (Florence Briggs Th...  female  38.0      1   \n",
       " 1                             Heikkinen, Miss. Laina  female  26.0      0   \n",
       " 2       Futrelle, Mrs. Jacques Heath (Lily May Peel)  female  35.0      1   \n",
       " 3                           Allen, Mr. William Henry    male  35.0      0   \n",
       "\n",
       "    Parch            Ticket     Fare Cabin Embarked title  \n",
       "-1      0         A/5 21171   7.2500   NaN        S    Mr  \n",
       " 0      0          PC 17599  71.2833   C85        C   Mrs  \n",
       " 1      0  STON/O2. 3101282   7.9250   NaN        S  Miss  \n",
       " 2      0            113803  53.1000  C123        S   Mrs  \n",
       " 3      0            373450   8.0500   NaN        S    Mr  "
      ]
     },
     "execution_count": 28,
     "metadata": {},
     "output_type": "execute_result"
    }
   ],
   "source": [
    "#the left most column represents the index and so if you do df.loc[1] you will select the second row\n",
    "#but say the index was like so:\n",
    "df_copy = df.copy()\n",
    "df_copy.index = pd.Index(df.index.values-1)\n",
    "df_copy.head()"
   ]
  },
  {
   "cell_type": "code",
   "execution_count": 29,
   "metadata": {
    "collapsed": false
   },
   "outputs": [
    {
     "data": {
      "text/plain": [
       "PassengerId                         3\n",
       "Survived                            1\n",
       "Pclass                              3\n",
       "Name           Heikkinen, Miss. Laina\n",
       "Sex                            female\n",
       "Age                                26\n",
       "SibSp                               0\n",
       "Parch                               0\n",
       "Ticket               STON/O2. 3101282\n",
       "Fare                            7.925\n",
       "Cabin                             NaN\n",
       "Embarked                            S\n",
       "title                            Miss\n",
       "Name: 1, dtype: object"
      ]
     },
     "execution_count": 29,
     "metadata": {},
     "output_type": "execute_result"
    }
   ],
   "source": [
    "df_copy.loc[1]\n",
    "#since the index of 1 correponds to the third row, loc will select the third row "
   ]
  },
  {
   "cell_type": "code",
   "execution_count": 30,
   "metadata": {
    "collapsed": false
   },
   "outputs": [
    {
     "data": {
      "text/plain": [
       "PassengerId                                                    2\n",
       "Survived                                                       1\n",
       "Pclass                                                         1\n",
       "Name           Cumings, Mrs. John Bradley (Florence Briggs Th...\n",
       "Sex                                                       female\n",
       "Age                                                           38\n",
       "SibSp                                                          1\n",
       "Parch                                                          0\n",
       "Ticket                                                  PC 17599\n",
       "Fare                                                     71.2833\n",
       "Cabin                                                        C85\n",
       "Embarked                                                       C\n",
       "title                                                        Mrs\n",
       "Name: 1, dtype: object"
      ]
     },
     "execution_count": 30,
     "metadata": {},
     "output_type": "execute_result"
    }
   ],
   "source": [
    "#iloc will index on position (actual row number) starting with 0 for the first row regardless of index\n",
    "df.iloc[1]"
   ]
  },
  {
   "cell_type": "code",
   "execution_count": 31,
   "metadata": {
    "collapsed": false
   },
   "outputs": [
    {
     "data": {
      "text/plain": [
       "PassengerId                                                    2\n",
       "Survived                                                       1\n",
       "Pclass                                                         1\n",
       "Name           Cumings, Mrs. John Bradley (Florence Briggs Th...\n",
       "Sex                                                       female\n",
       "Age                                                           38\n",
       "SibSp                                                          1\n",
       "Parch                                                          0\n",
       "Ticket                                                  PC 17599\n",
       "Fare                                                     71.2833\n",
       "Cabin                                                        C85\n",
       "Embarked                                                       C\n",
       "title                                                        Mrs\n",
       "Name: 0, dtype: object"
      ]
     },
     "execution_count": 31,
     "metadata": {},
     "output_type": "execute_result"
    }
   ],
   "source": [
    "df_copy.iloc[1]"
   ]
  },
  {
   "cell_type": "code",
   "execution_count": 32,
   "metadata": {
    "collapsed": false
   },
   "outputs": [
    {
     "data": {
      "text/html": [
       "<div>\n",
       "<table border=\"1\" class=\"dataframe\">\n",
       "  <thead>\n",
       "    <tr style=\"text-align: right;\">\n",
       "      <th></th>\n",
       "      <th>PassengerId</th>\n",
       "      <th>Survived</th>\n",
       "    </tr>\n",
       "  </thead>\n",
       "  <tbody>\n",
       "    <tr>\n",
       "      <th>0</th>\n",
       "      <td>1</td>\n",
       "      <td>0</td>\n",
       "    </tr>\n",
       "    <tr>\n",
       "      <th>1</th>\n",
       "      <td>2</td>\n",
       "      <td>1</td>\n",
       "    </tr>\n",
       "    <tr>\n",
       "      <th>2</th>\n",
       "      <td>3</td>\n",
       "      <td>1</td>\n",
       "    </tr>\n",
       "    <tr>\n",
       "      <th>3</th>\n",
       "      <td>4</td>\n",
       "      <td>1</td>\n",
       "    </tr>\n",
       "  </tbody>\n",
       "</table>\n",
       "</div>"
      ],
      "text/plain": [
       "   PassengerId  Survived\n",
       "0            1         0\n",
       "1            2         1\n",
       "2            3         1\n",
       "3            4         1"
      ]
     },
     "execution_count": 32,
     "metadata": {},
     "output_type": "execute_result"
    }
   ],
   "source": [
    "#ix defaults to behave like loc but falls back to iloc if a label is not in the index AND if the index contains \n",
    "#both strings and numerics in most cases, you will use loc and iloc more often than ix. ix is useful if you want to \n",
    "#index the rows by index label and columns by position \n",
    "df.ix[:3,:2]"
   ]
  },
  {
   "cell_type": "code",
   "execution_count": 33,
   "metadata": {
    "collapsed": false
   },
   "outputs": [
    {
     "data": {
      "text/html": [
       "<div>\n",
       "<table border=\"1\" class=\"dataframe\">\n",
       "  <thead>\n",
       "    <tr style=\"text-align: right;\">\n",
       "      <th></th>\n",
       "      <th>PassengerId</th>\n",
       "      <th>Survived</th>\n",
       "    </tr>\n",
       "  </thead>\n",
       "  <tbody>\n",
       "    <tr>\n",
       "      <th>-1</th>\n",
       "      <td>1</td>\n",
       "      <td>0</td>\n",
       "    </tr>\n",
       "    <tr>\n",
       "      <th>0</th>\n",
       "      <td>2</td>\n",
       "      <td>1</td>\n",
       "    </tr>\n",
       "    <tr>\n",
       "      <th>1</th>\n",
       "      <td>3</td>\n",
       "      <td>1</td>\n",
       "    </tr>\n",
       "    <tr>\n",
       "      <th>2</th>\n",
       "      <td>4</td>\n",
       "      <td>1</td>\n",
       "    </tr>\n",
       "    <tr>\n",
       "      <th>3</th>\n",
       "      <td>5</td>\n",
       "      <td>0</td>\n",
       "    </tr>\n",
       "  </tbody>\n",
       "</table>\n",
       "</div>"
      ],
      "text/plain": [
       "    PassengerId  Survived\n",
       "-1            1         0\n",
       " 0            2         1\n",
       " 1            3         1\n",
       " 2            4         1\n",
       " 3            5         0"
      ]
     },
     "execution_count": 33,
     "metadata": {},
     "output_type": "execute_result"
    }
   ],
   "source": [
    "df_copy.ix[:3,:2]"
   ]
  },
  {
   "cell_type": "markdown",
   "metadata": {},
   "source": [
    "## Smarter Missing Value Imputation"
   ]
  },
  {
   "cell_type": "code",
   "execution_count": 34,
   "metadata": {
    "collapsed": false
   },
   "outputs": [
    {
     "data": {
      "text/plain": [
       "<matplotlib.text.Text at 0x11c8186d8>"
      ]
     },
     "execution_count": 34,
     "metadata": {},
     "output_type": "execute_result"
    },
    {
     "data": {
      "image/png": "[encoded data removed]",
      "text/plain": [
       "<matplotlib.figure.Figure at 0x11c717198>"
      ]
     },
     "metadata": {},
     "output_type": "display_data"
    }
   ],
   "source": [
    "df.boxplot(column='Age',by='title') #Mean Age is different per title\n",
    "plt.ylabel('Age')"
   ]
  },
  {
   "cell_type": "code",
   "execution_count": 35,
   "metadata": {
    "collapsed": false
   },
   "outputs": [
    {
     "data": {
      "text/html": [
       "<div>\n",
       "<table border=\"1\" class=\"dataframe\">\n",
       "  <thead>\n",
       "    <tr style=\"text-align: right;\">\n",
       "      <th></th>\n",
       "      <th>title</th>\n",
       "      <th>Age</th>\n",
       "      <th>age_filled</th>\n",
       "    </tr>\n",
       "  </thead>\n",
       "  <tbody>\n",
       "    <tr>\n",
       "      <th>871</th>\n",
       "      <td>Mrs</td>\n",
       "      <td>47.0</td>\n",
       "      <td>47.000000</td>\n",
       "    </tr>\n",
       "    <tr>\n",
       "      <th>872</th>\n",
       "      <td>Mr</td>\n",
       "      <td>33.0</td>\n",
       "      <td>33.000000</td>\n",
       "    </tr>\n",
       "    <tr>\n",
       "      <th>873</th>\n",
       "      <td>Mr</td>\n",
       "      <td>47.0</td>\n",
       "      <td>47.000000</td>\n",
       "    </tr>\n",
       "    <tr>\n",
       "      <th>874</th>\n",
       "      <td>Mrs</td>\n",
       "      <td>28.0</td>\n",
       "      <td>28.000000</td>\n",
       "    </tr>\n",
       "    <tr>\n",
       "      <th>875</th>\n",
       "      <td>Miss</td>\n",
       "      <td>15.0</td>\n",
       "      <td>15.000000</td>\n",
       "    </tr>\n",
       "    <tr>\n",
       "      <th>876</th>\n",
       "      <td>Mr</td>\n",
       "      <td>20.0</td>\n",
       "      <td>20.000000</td>\n",
       "    </tr>\n",
       "    <tr>\n",
       "      <th>877</th>\n",
       "      <td>Mr</td>\n",
       "      <td>19.0</td>\n",
       "      <td>19.000000</td>\n",
       "    </tr>\n",
       "    <tr>\n",
       "      <th>878</th>\n",
       "      <td>Mr</td>\n",
       "      <td>NaN</td>\n",
       "      <td>32.368090</td>\n",
       "    </tr>\n",
       "    <tr>\n",
       "      <th>879</th>\n",
       "      <td>Mrs</td>\n",
       "      <td>56.0</td>\n",
       "      <td>56.000000</td>\n",
       "    </tr>\n",
       "    <tr>\n",
       "      <th>880</th>\n",
       "      <td>Mrs</td>\n",
       "      <td>25.0</td>\n",
       "      <td>25.000000</td>\n",
       "    </tr>\n",
       "    <tr>\n",
       "      <th>881</th>\n",
       "      <td>Mr</td>\n",
       "      <td>33.0</td>\n",
       "      <td>33.000000</td>\n",
       "    </tr>\n",
       "    <tr>\n",
       "      <th>882</th>\n",
       "      <td>Miss</td>\n",
       "      <td>22.0</td>\n",
       "      <td>22.000000</td>\n",
       "    </tr>\n",
       "    <tr>\n",
       "      <th>883</th>\n",
       "      <td>Mr</td>\n",
       "      <td>28.0</td>\n",
       "      <td>28.000000</td>\n",
       "    </tr>\n",
       "    <tr>\n",
       "      <th>884</th>\n",
       "      <td>Mr</td>\n",
       "      <td>25.0</td>\n",
       "      <td>25.000000</td>\n",
       "    </tr>\n",
       "    <tr>\n",
       "      <th>885</th>\n",
       "      <td>Mrs</td>\n",
       "      <td>39.0</td>\n",
       "      <td>39.000000</td>\n",
       "    </tr>\n",
       "    <tr>\n",
       "      <th>886</th>\n",
       "      <td>other</td>\n",
       "      <td>27.0</td>\n",
       "      <td>27.000000</td>\n",
       "    </tr>\n",
       "    <tr>\n",
       "      <th>887</th>\n",
       "      <td>Miss</td>\n",
       "      <td>19.0</td>\n",
       "      <td>19.000000</td>\n",
       "    </tr>\n",
       "    <tr>\n",
       "      <th>888</th>\n",
       "      <td>Miss</td>\n",
       "      <td>NaN</td>\n",
       "      <td>21.773973</td>\n",
       "    </tr>\n",
       "    <tr>\n",
       "      <th>889</th>\n",
       "      <td>Mr</td>\n",
       "      <td>26.0</td>\n",
       "      <td>26.000000</td>\n",
       "    </tr>\n",
       "    <tr>\n",
       "      <th>890</th>\n",
       "      <td>Mr</td>\n",
       "      <td>32.0</td>\n",
       "      <td>32.000000</td>\n",
       "    </tr>\n",
       "  </tbody>\n",
       "</table>\n",
       "</div>"
      ],
      "text/plain": [
       "     title   Age  age_filled\n",
       "871    Mrs  47.0   47.000000\n",
       "872     Mr  33.0   33.000000\n",
       "873     Mr  47.0   47.000000\n",
       "874    Mrs  28.0   28.000000\n",
       "875   Miss  15.0   15.000000\n",
       "876     Mr  20.0   20.000000\n",
       "877     Mr  19.0   19.000000\n",
       "878     Mr   NaN   32.368090\n",
       "879    Mrs  56.0   56.000000\n",
       "880    Mrs  25.0   25.000000\n",
       "881     Mr  33.0   33.000000\n",
       "882   Miss  22.0   22.000000\n",
       "883     Mr  28.0   28.000000\n",
       "884     Mr  25.0   25.000000\n",
       "885    Mrs  39.0   39.000000\n",
       "886  other  27.0   27.000000\n",
       "887   Miss  19.0   19.000000\n",
       "888   Miss   NaN   21.773973\n",
       "889     Mr  26.0   26.000000\n",
       "890     Mr  32.0   32.000000"
      ]
     },
     "execution_count": 35,
     "metadata": {},
     "output_type": "execute_result"
    }
   ],
   "source": [
    "#Transform performs operation per group and returns values to their original index\n",
    "df['age_filled'] = df[['title','Age']].groupby('title').transform(lambda x: x.fillna(x.mean())) \n",
    "df[['title','Age','age_filled']].tail(20)"
   ]
  },
  {
   "cell_type": "code",
   "execution_count": 36,
   "metadata": {
    "collapsed": false
   },
   "outputs": [
    {
     "data": {
      "text/plain": [
       "Mr        517\n",
       "Miss      182\n",
       "Mrs       125\n",
       "Master     40\n",
       "other      27\n",
       "Name: title, dtype: int64"
      ]
     },
     "execution_count": 36,
     "metadata": {},
     "output_type": "execute_result"
    }
   ],
   "source": [
    "df['title'].value_counts()"
   ]
  },
  {
   "cell_type": "code",
   "execution_count": 37,
   "metadata": {
    "collapsed": false
   },
   "outputs": [
    {
     "data": {
      "text/plain": [
       "<matplotlib.text.Text at 0x11c6eae80>"
      ]
     },
     "execution_count": 37,
     "metadata": {},
     "output_type": "execute_result"
    },
    {
     "data": {
      "image/png": "[encoded data removed]",
      "text/plain": [
       "<matplotlib.figure.Figure at 0x11c3f1940>"
      ]
     },
     "metadata": {},
     "output_type": "display_data"
    }
   ],
   "source": [
    "df['age_filled'].hist(bins=20)\n",
    "plt.title('Distribution of All Ages (Imputed)')\n",
    "plt.xlabel('Age')\n",
    "plt.ylabel('Counts')"
   ]
  },
  {
   "cell_type": "markdown",
   "metadata": {
    "collapsed": true
   },
   "source": [
    "# Feature Engineering "
   ]
  },
  {
   "cell_type": "markdown",
   "metadata": {
    "collapsed": true
   },
   "source": [
    "Feature engineering is the art of extracting information from your data that is otherwise not immediately apparent. Below are some examples:\n",
    "\n",
    "1. Weekday from a date (e.g. 9/21/16 is a Wednesday)\n",
    "1. Number of user web sessions (e.g. if each row of your data represents a user session, can aggregate by taking sum)\n",
    "1. Number of \"!\" occurrences (e.g. a lot of \"!\"s in a string could signal excitement or extreme positive/negative sentiment)"
   ]
  },
  {
   "cell_type": "markdown",
   "metadata": {},
   "source": [
    "Extracting this information often helps your model pick up hidden signals in your data. There is no hard rule on how to go about finding these things, but constant exposure to what others have done will give you a good amount of intuition for most problems. Domain knowledge can also help tremendously, as we'll see below."
   ]
  },
  {
   "cell_type": "markdown",
   "metadata": {},
   "source": [
    "## Feature engineering cabin location on the Titanic"
   ]
  },
  {
   "cell_type": "markdown",
   "metadata": {},
   "source": [
    "It is known that cabin number can distinguish between port or starboard side of the Titanic. This is important because it seems that the \"Women and children first\" policy was implemented differently between the two sides. The starboard side had women and children prioritized before letting men on board while the port side ONLY allowed women and\n",
    "children on board. Odd cabin numbers were on the starboard side and even cabin numbers were on the port side.\n",
    "\n",
    "Cabin letter designates the deck on the titanic, starting from highest to lowest - A to G. "
   ]
  },
  {
   "cell_type": "code",
   "execution_count": 18,
   "metadata": {
    "collapsed": false
   },
   "outputs": [
    {
     "data": {
      "text/plain": [
       "0              NaN\n",
       "1              C85\n",
       "2              NaN\n",
       "3             C123\n",
       "4              NaN\n",
       "5              NaN\n",
       "6              E46\n",
       "7              NaN\n",
       "8              NaN\n",
       "9              NaN\n",
       "10              G6\n",
       "11            C103\n",
       "12             NaN\n",
       "13             NaN\n",
       "14             NaN\n",
       "15             NaN\n",
       "16             NaN\n",
       "17             NaN\n",
       "18             NaN\n",
       "19             NaN\n",
       "20             NaN\n",
       "21             D56\n",
       "22             NaN\n",
       "23              A6\n",
       "24             NaN\n",
       "25             NaN\n",
       "26             NaN\n",
       "27     C23 C25 C27\n",
       "28             NaN\n",
       "29             NaN\n",
       "          ...     \n",
       "861            NaN\n",
       "862            D17\n",
       "863            NaN\n",
       "864            NaN\n",
       "865            NaN\n",
       "866            NaN\n",
       "867            A24\n",
       "868            NaN\n",
       "869            NaN\n",
       "870            NaN\n",
       "871            D35\n",
       "872    B51 B53 B55\n",
       "873            NaN\n",
       "874            NaN\n",
       "875            NaN\n",
       "876            NaN\n",
       "877            NaN\n",
       "878            NaN\n",
       "879            C50\n",
       "880            NaN\n",
       "881            NaN\n",
       "882            NaN\n",
       "883            NaN\n",
       "884            NaN\n",
       "885            NaN\n",
       "886            NaN\n",
       "887            B42\n",
       "888            NaN\n",
       "889           C148\n",
       "890            NaN\n",
       "Name: Cabin, dtype: object"
      ]
     },
     "execution_count": 18,
     "metadata": {},
     "output_type": "execute_result"
    }
   ],
   "source": [
    "df['Cabin'] "
   ]
  },
  {
   "cell_type": "code",
   "execution_count": 38,
   "metadata": {
    "collapsed": false
   },
   "outputs": [
    {
     "data": {
      "text/plain": [
       "Unknown      691\n",
       "port         110\n",
       "starboard     90\n",
       "Name: cabin_side, dtype: int64"
      ]
     },
     "execution_count": 38,
     "metadata": {},
     "output_type": "execute_result"
    }
   ],
   "source": [
    "\n",
    "df['cabin_side'] = 'Unknown'\n",
    "df.loc[df['Cabin'].str[-1].isin([\"1\", \"3\", \"5\", \"7\", \"9\"]),'cabin_side'] = 'starboard'\n",
    "df.loc[df['Cabin'].str[-1].isin([\"2\", \"4\", \"6\", \"8\", \"0\"]),'cabin_side'] = 'port'\n",
    "df['cabin_side'].value_counts()\n"
   ]
  },
  {
   "cell_type": "code",
   "execution_count": 39,
   "metadata": {
    "collapsed": false
   },
   "outputs": [
    {
     "data": {
      "text/plain": [
       "Unknown    687\n",
       "C           59\n",
       "B           47\n",
       "D           33\n",
       "E           32\n",
       "A           15\n",
       "F           13\n",
       "G            4\n",
       "T            1\n",
       "Name: deck, dtype: int64"
      ]
     },
     "execution_count": 39,
     "metadata": {},
     "output_type": "execute_result"
    }
   ],
   "source": [
    "df['deck'] = 'Unknown'\n",
    "df.loc[df['Cabin'].notnull(),'deck'] = df['Cabin'].str[0]\n",
    "df['deck'].value_counts()"
   ]
  },
  {
   "cell_type": "code",
   "execution_count": 40,
   "metadata": {
    "collapsed": false
   },
   "outputs": [
    {
     "data": {
      "text/html": [
       "<div>\n",
       "<table border=\"1\" class=\"dataframe\">\n",
       "  <thead>\n",
       "    <tr style=\"text-align: right;\">\n",
       "      <th></th>\n",
       "      <th>PassengerId</th>\n",
       "      <th>Survived</th>\n",
       "      <th>Pclass</th>\n",
       "      <th>Name</th>\n",
       "      <th>Sex</th>\n",
       "      <th>Age</th>\n",
       "      <th>SibSp</th>\n",
       "      <th>Parch</th>\n",
       "      <th>Ticket</th>\n",
       "      <th>Fare</th>\n",
       "      <th>Cabin</th>\n",
       "      <th>Embarked</th>\n",
       "      <th>title</th>\n",
       "      <th>age_filled</th>\n",
       "      <th>cabin_side</th>\n",
       "      <th>deck</th>\n",
       "    </tr>\n",
       "  </thead>\n",
       "  <tbody>\n",
       "    <tr>\n",
       "      <th>339</th>\n",
       "      <td>340</td>\n",
       "      <td>0</td>\n",
       "      <td>1</td>\n",
       "      <td>Blackwell, Mr. Stephen Weart</td>\n",
       "      <td>male</td>\n",
       "      <td>45.0</td>\n",
       "      <td>0</td>\n",
       "      <td>0</td>\n",
       "      <td>113784</td>\n",
       "      <td>35.5</td>\n",
       "      <td>T</td>\n",
       "      <td>S</td>\n",
       "      <td>Mr</td>\n",
       "      <td>45.0</td>\n",
       "      <td>Unknown</td>\n",
       "      <td>T</td>\n",
       "    </tr>\n",
       "  </tbody>\n",
       "</table>\n",
       "</div>"
      ],
      "text/plain": [
       "     PassengerId  Survived  Pclass                          Name   Sex   Age  \\\n",
       "339          340         0       1  Blackwell, Mr. Stephen Weart  male  45.0   \n",
       "\n",
       "     SibSp  Parch  Ticket  Fare Cabin Embarked title  age_filled cabin_side  \\\n",
       "339      0      0  113784  35.5     T        S    Mr        45.0    Unknown   \n",
       "\n",
       "    deck  \n",
       "339    T  "
      ]
     },
     "execution_count": 40,
     "metadata": {},
     "output_type": "execute_result"
    }
   ],
   "source": [
    "df[df['Cabin'].str[0]=='T'] #Why is there a T deck..."
   ]
  },
  {
   "cell_type": "code",
   "execution_count": 41,
   "metadata": {
    "collapsed": true
   },
   "outputs": [],
   "source": [
    "df.loc[df['deck'] == 'T','deck'] = \"Unknown\" #We can just set this to unknown (there is no T deck in the test set)"
   ]
  },
  {
   "cell_type": "code",
   "execution_count": 42,
   "metadata": {
    "collapsed": false
   },
   "outputs": [
    {
     "data": {
      "text/plain": [
       "array(['C85', 'C123', 'E46', 'G6', 'C103', 'D56', 'A6', 'C23 C25 C27',\n",
       "       'B78', 'D33', 'B30', 'C52', 'B28', 'C83', 'F33', 'F G73',\n",
       "       'C23 C25 C27', 'E31', 'A5', 'D10 D12', 'D26', 'C110', 'B58 B60',\n",
       "       'E101', 'D26', 'F E69', 'D47', 'C123', 'B86', 'F2', 'C2', 'E33',\n",
       "       'B19', 'A7', 'C49', 'F4', 'A32', 'F2', 'B4', 'B80', 'G6', 'A31',\n",
       "       'D36', 'D15', 'C93', 'C83', 'C78', 'D35', 'G6', 'C87', 'B77', 'E67',\n",
       "       'B94', 'C125', 'C99', 'C118', 'D7', 'A19', 'B49', 'D', 'C22 C26',\n",
       "       'C106', 'B58 B60', 'E101', 'C22 C26', 'C65', 'E36', 'C54',\n",
       "       'B57 B59 B63 B66', 'C7', 'E34', 'C32', 'D', 'B18', 'C124', 'C91',\n",
       "       'C2', 'E40', 'T', 'F2', 'C23 C25 C27', 'F33', 'C128', 'E33', 'D37',\n",
       "       'B35', 'E50', 'C82', 'B96 B98', 'D36', 'G6', 'C78', 'E10', 'C52',\n",
       "       'E44', 'B96 B98', 'C23 C25 C27', 'A34', 'C104', 'C111', 'C92',\n",
       "       'E38', 'D21', 'E12', 'E63', 'D', 'A14', 'B49', 'C93', 'B37', 'C30',\n",
       "       'D20', 'C22 C26', 'B79', 'C65', 'E25', 'D46', 'F33', 'B73', 'B18',\n",
       "       'C95', 'B38', 'B39', 'B22', 'C86', 'C70', 'A16', 'E67', 'C101',\n",
       "       'E25', 'E44', 'C68', 'A10', 'E68', 'B41', 'D20', 'A20', 'C125',\n",
       "       'F4', 'D19', 'D50', 'D9', 'A23', 'B50', 'B35', 'D33', 'A26', 'D48',\n",
       "       'E58', 'C126', 'B71', 'B51 B53 B55', 'D49', 'B5', 'B20', 'C68',\n",
       "       'F G63', 'C62 C64', 'E24', 'E24', 'C90', 'C124', 'C126', 'F G73',\n",
       "       'C45', 'E101', 'E8', 'B5', 'B101', 'D45', 'C46', 'B57 B59 B63 B66',\n",
       "       'B22', 'D30', 'E121', 'B77', 'B96 B98', 'D11', 'E77', 'F38', 'B3',\n",
       "       'B20', 'D6', 'B82 B84', 'D17', 'B96 B98', 'A36', 'E8', 'B102',\n",
       "       'B69', 'E121', 'B28', 'E49', 'C47', 'C92', 'D28', 'E17', 'D17',\n",
       "       'A24', 'D35', 'B51 B53 B55', 'C50', 'B42', 'C148'], dtype=object)"
      ]
     },
     "execution_count": 42,
     "metadata": {},
     "output_type": "execute_result"
    }
   ],
   "source": [
    "#Some cabins start with \"F\" followed by a space and then the actual deck letter\n",
    "df['Cabin'][df.Cabin.notnull()].values"
   ]
  },
  {
   "cell_type": "code",
   "execution_count": 43,
   "metadata": {
    "collapsed": false
   },
   "outputs": [
    {
     "data": {
      "text/plain": [
       "75     F G73\n",
       "128    F E69\n",
       "699    F G63\n",
       "715    F G73\n",
       "Name: Cabin, dtype: object"
      ]
     },
     "execution_count": 43,
     "metadata": {},
     "output_type": "execute_result"
    }
   ],
   "source": [
    "pattern = \"[A-Z]\\s[A-Z]\" #Any capital letter between A-Z followed by a whitespace followed by any letter between A-Z\n",
    "mask = df['Cabin'].str.contains(pattern,na=False)\n",
    "df.loc[mask,'Cabin']"
   ]
  },
  {
   "cell_type": "code",
   "execution_count": 44,
   "metadata": {
    "collapsed": false
   },
   "outputs": [
    {
     "data": {
      "text/plain": [
       "Unknown    688\n",
       "C           59\n",
       "B           47\n",
       "E           33\n",
       "D           33\n",
       "A           15\n",
       "F            9\n",
       "G            7\n",
       "Name: deck, dtype: int64"
      ]
     },
     "execution_count": 44,
     "metadata": {},
     "output_type": "execute_result"
    }
   ],
   "source": [
    "df.loc[mask,'deck'] = df.loc[mask,'Cabin'].str[2]\n",
    "df.deck.value_counts()"
   ]
  },
  {
   "cell_type": "code",
   "execution_count": 45,
   "metadata": {
    "collapsed": false
   },
   "outputs": [
    {
     "data": {
      "text/plain": [
       "0                  NaN\n",
       "1                [C85]\n",
       "2                  NaN\n",
       "3               [C123]\n",
       "4                  NaN\n",
       "5                  NaN\n",
       "6                [E46]\n",
       "7                  NaN\n",
       "8                  NaN\n",
       "9                  NaN\n",
       "10                [G6]\n",
       "11              [C103]\n",
       "12                 NaN\n",
       "13                 NaN\n",
       "14                 NaN\n",
       "15                 NaN\n",
       "16                 NaN\n",
       "17                 NaN\n",
       "18                 NaN\n",
       "19                 NaN\n",
       "20                 NaN\n",
       "21               [D56]\n",
       "22                 NaN\n",
       "23                [A6]\n",
       "24                 NaN\n",
       "25                 NaN\n",
       "26                 NaN\n",
       "27     [C23, C25, C27]\n",
       "28                 NaN\n",
       "29                 NaN\n",
       "            ...       \n",
       "861                NaN\n",
       "862              [D17]\n",
       "863                NaN\n",
       "864                NaN\n",
       "865                NaN\n",
       "866                NaN\n",
       "867              [A24]\n",
       "868                NaN\n",
       "869                NaN\n",
       "870                NaN\n",
       "871              [D35]\n",
       "872    [B51, B53, B55]\n",
       "873                NaN\n",
       "874                NaN\n",
       "875                NaN\n",
       "876                NaN\n",
       "877                NaN\n",
       "878                NaN\n",
       "879              [C50]\n",
       "880                NaN\n",
       "881                NaN\n",
       "882                NaN\n",
       "883                NaN\n",
       "884                NaN\n",
       "885                NaN\n",
       "886                NaN\n",
       "887              [B42]\n",
       "888                NaN\n",
       "889             [C148]\n",
       "890                NaN\n",
       "Name: Cabin, dtype: object"
      ]
     },
     "execution_count": 45,
     "metadata": {},
     "output_type": "execute_result"
    }
   ],
   "source": [
    "#If you also look closely, some people have multiple cabins assigned to them possibly indicating group tickets for the\n",
    "#family.\n",
    "#We can split these by whitespace and count them to make another variable called \"number_in_group\"\n",
    "df['Cabin'].str.split()"
   ]
  },
  {
   "cell_type": "code",
   "execution_count": 46,
   "metadata": {
    "collapsed": false
   },
   "outputs": [
    {
     "data": {
      "text/html": [
       "<div>\n",
       "<table border=\"1\" class=\"dataframe\">\n",
       "  <thead>\n",
       "    <tr style=\"text-align: right;\">\n",
       "      <th></th>\n",
       "      <th>PassengerId</th>\n",
       "      <th>Survived</th>\n",
       "      <th>Pclass</th>\n",
       "      <th>Name</th>\n",
       "      <th>Sex</th>\n",
       "      <th>Age</th>\n",
       "      <th>SibSp</th>\n",
       "      <th>Parch</th>\n",
       "      <th>Ticket</th>\n",
       "      <th>Fare</th>\n",
       "      <th>Cabin</th>\n",
       "      <th>Embarked</th>\n",
       "      <th>title</th>\n",
       "      <th>age_filled</th>\n",
       "      <th>cabin_side</th>\n",
       "      <th>deck</th>\n",
       "      <th>num_in_group</th>\n",
       "    </tr>\n",
       "  </thead>\n",
       "  <tbody>\n",
       "    <tr>\n",
       "      <th>25</th>\n",
       "      <td>26</td>\n",
       "      <td>1</td>\n",
       "      <td>3</td>\n",
       "      <td>Asplund, Mrs. Carl Oscar (Selma Augusta Emilia...</td>\n",
       "      <td>female</td>\n",
       "      <td>38.0</td>\n",
       "      <td>1</td>\n",
       "      <td>5</td>\n",
       "      <td>347077</td>\n",
       "      <td>31.3875</td>\n",
       "      <td>NaN</td>\n",
       "      <td>S</td>\n",
       "      <td>Mrs</td>\n",
       "      <td>38.000000</td>\n",
       "      <td>Unknown</td>\n",
       "      <td>Unknown</td>\n",
       "      <td>1</td>\n",
       "    </tr>\n",
       "    <tr>\n",
       "      <th>26</th>\n",
       "      <td>27</td>\n",
       "      <td>0</td>\n",
       "      <td>3</td>\n",
       "      <td>Emir, Mr. Farred Chehab</td>\n",
       "      <td>male</td>\n",
       "      <td>NaN</td>\n",
       "      <td>0</td>\n",
       "      <td>0</td>\n",
       "      <td>2631</td>\n",
       "      <td>7.2250</td>\n",
       "      <td>NaN</td>\n",
       "      <td>C</td>\n",
       "      <td>Mr</td>\n",
       "      <td>32.368090</td>\n",
       "      <td>Unknown</td>\n",
       "      <td>Unknown</td>\n",
       "      <td>1</td>\n",
       "    </tr>\n",
       "    <tr>\n",
       "      <th>27</th>\n",
       "      <td>28</td>\n",
       "      <td>0</td>\n",
       "      <td>1</td>\n",
       "      <td>Fortune, Mr. Charles Alexander</td>\n",
       "      <td>male</td>\n",
       "      <td>19.0</td>\n",
       "      <td>3</td>\n",
       "      <td>2</td>\n",
       "      <td>19950</td>\n",
       "      <td>263.0000</td>\n",
       "      <td>C23 C25 C27</td>\n",
       "      <td>S</td>\n",
       "      <td>Mr</td>\n",
       "      <td>19.000000</td>\n",
       "      <td>starboard</td>\n",
       "      <td>C</td>\n",
       "      <td>3</td>\n",
       "    </tr>\n",
       "    <tr>\n",
       "      <th>28</th>\n",
       "      <td>29</td>\n",
       "      <td>1</td>\n",
       "      <td>3</td>\n",
       "      <td>O'Dwyer, Miss. Ellen \"Nellie\"</td>\n",
       "      <td>female</td>\n",
       "      <td>NaN</td>\n",
       "      <td>0</td>\n",
       "      <td>0</td>\n",
       "      <td>330959</td>\n",
       "      <td>7.8792</td>\n",
       "      <td>NaN</td>\n",
       "      <td>Q</td>\n",
       "      <td>Miss</td>\n",
       "      <td>21.773973</td>\n",
       "      <td>Unknown</td>\n",
       "      <td>Unknown</td>\n",
       "      <td>1</td>\n",
       "    </tr>\n",
       "    <tr>\n",
       "      <th>29</th>\n",
       "      <td>30</td>\n",
       "      <td>0</td>\n",
       "      <td>3</td>\n",
       "      <td>Todoroff, Mr. Lalio</td>\n",
       "      <td>male</td>\n",
       "      <td>NaN</td>\n",
       "      <td>0</td>\n",
       "      <td>0</td>\n",
       "      <td>349216</td>\n",
       "      <td>7.8958</td>\n",
       "      <td>NaN</td>\n",
       "      <td>S</td>\n",
       "      <td>Mr</td>\n",
       "      <td>32.368090</td>\n",
       "      <td>Unknown</td>\n",
       "      <td>Unknown</td>\n",
       "      <td>1</td>\n",
       "    </tr>\n",
       "    <tr>\n",
       "      <th>30</th>\n",
       "      <td>31</td>\n",
       "      <td>0</td>\n",
       "      <td>1</td>\n",
       "      <td>Uruchurtu, Don. Manuel E</td>\n",
       "      <td>male</td>\n",
       "      <td>40.0</td>\n",
       "      <td>0</td>\n",
       "      <td>0</td>\n",
       "      <td>PC 17601</td>\n",
       "      <td>27.7208</td>\n",
       "      <td>NaN</td>\n",
       "      <td>C</td>\n",
       "      <td>other</td>\n",
       "      <td>40.000000</td>\n",
       "      <td>Unknown</td>\n",
       "      <td>Unknown</td>\n",
       "      <td>1</td>\n",
       "    </tr>\n",
       "  </tbody>\n",
       "</table>\n",
       "</div>"
      ],
      "text/plain": [
       "    PassengerId  Survived  Pclass  \\\n",
       "25           26         1       3   \n",
       "26           27         0       3   \n",
       "27           28         0       1   \n",
       "28           29         1       3   \n",
       "29           30         0       3   \n",
       "30           31         0       1   \n",
       "\n",
       "                                                 Name     Sex   Age  SibSp  \\\n",
       "25  Asplund, Mrs. Carl Oscar (Selma Augusta Emilia...  female  38.0      1   \n",
       "26                            Emir, Mr. Farred Chehab    male   NaN      0   \n",
       "27                     Fortune, Mr. Charles Alexander    male  19.0      3   \n",
       "28                      O'Dwyer, Miss. Ellen \"Nellie\"  female   NaN      0   \n",
       "29                                Todoroff, Mr. Lalio    male   NaN      0   \n",
       "30                           Uruchurtu, Don. Manuel E    male  40.0      0   \n",
       "\n",
       "    Parch    Ticket      Fare        Cabin Embarked  title  age_filled  \\\n",
       "25      5    347077   31.3875          NaN        S    Mrs   38.000000   \n",
       "26      0      2631    7.2250          NaN        C     Mr   32.368090   \n",
       "27      2     19950  263.0000  C23 C25 C27        S     Mr   19.000000   \n",
       "28      0    330959    7.8792          NaN        Q   Miss   21.773973   \n",
       "29      0    349216    7.8958          NaN        S     Mr   32.368090   \n",
       "30      0  PC 17601   27.7208          NaN        C  other   40.000000   \n",
       "\n",
       "   cabin_side     deck  num_in_group  \n",
       "25    Unknown  Unknown             1  \n",
       "26    Unknown  Unknown             1  \n",
       "27  starboard        C             3  \n",
       "28    Unknown  Unknown             1  \n",
       "29    Unknown  Unknown             1  \n",
       "30    Unknown  Unknown             1  "
      ]
     },
     "execution_count": 46,
     "metadata": {},
     "output_type": "execute_result"
    }
   ],
   "source": [
    "df['num_in_group'] = df['Cabin'].str.split().map(lambda x: len(x) if type(x)!=float else 1)\n",
    "df.loc[25:30]"
   ]
  },
  {
   "cell_type": "markdown",
   "metadata": {},
   "source": [
    "# Regular Expressions"
   ]
  },
  {
   "cell_type": "markdown",
   "metadata": {},
   "source": [
    "\"Regular expressions\" is simply character pattern matching. The reason we have this is so we can find specific string patterns in, say, a text document and then perform some operation on them (e.g. remove them, replace them, convert to upper case, etc.).\n",
    "\n",
    "For example, if I want to find occurrences of a web url in a string, I can write something like:\n",
    "\n",
    "http[s]?:\n",
    "\n",
    "As a simple start to recognize the pattern \"https:\" or \"http:\". The ? symbol is a special symbol that means \"match the preceding pattern 0 or 1 times\"."
   ]
  },
  {
   "cell_type": "markdown",
   "metadata": {},
   "source": [
    "A very helpful site to start learning from the ground up is regexone.com."
   ]
  },
  {
   "cell_type": "markdown",
   "metadata": {},
   "source": [
    "To put everything back into the Kaggle context, below is a modified version of code made by the1owl in a recent Home Depot competition (make sure you've done the regexone tutorial before proceeding!):"
   ]
  },
  {
   "cell_type": "code",
   "execution_count": 48,
   "metadata": {
    "collapsed": false
   },
   "outputs": [
    {
     "ename": "FileNotFoundError",
     "evalue": "File b'/Users/wgan/Desktop/kaggledecal/datasets/home_depot/train.csv' does not exist",
     "output_type": "error",
     "traceback": [
      "\u001b[0;31m---------------------------------------------------------------------------\u001b[0m",
      "\u001b[0;31mFileNotFoundError\u001b[0m                         Traceback (most recent call last)",
      "\u001b[0;32m<ipython-input-48-b61847eea9cb>\u001b[0m in \u001b[0;36m<module>\u001b[0;34m()\u001b[0m\n\u001b[1;32m      3\u001b[0m \u001b[0;34m\u001b[0m\u001b[0m\n\u001b[1;32m      4\u001b[0m \u001b[0;31m#Remember to change your path appropriately!\u001b[0m\u001b[0;34m\u001b[0m\u001b[0;34m\u001b[0m\u001b[0m\n\u001b[0;32m----> 5\u001b[0;31m \u001b[0mhd\u001b[0m \u001b[0;34m=\u001b[0m \u001b[0mpd\u001b[0m\u001b[0;34m.\u001b[0m\u001b[0mread_csv\u001b[0m\u001b[0;34m(\u001b[0m\u001b[0;34m\"~/Desktop/kaggledecal/datasets/home_depot/train.csv\"\u001b[0m\u001b[0;34m,\u001b[0m \u001b[0mencoding\u001b[0m\u001b[0;34m=\u001b[0m\u001b[0;34m\"ISO-8859-1\"\u001b[0m\u001b[0;34m)\u001b[0m\u001b[0;34m\u001b[0m\u001b[0m\n\u001b[0m\u001b[1;32m      6\u001b[0m \u001b[0mhd\u001b[0m\u001b[0;34m.\u001b[0m\u001b[0mhead\u001b[0m\u001b[0;34m(\u001b[0m\u001b[0;34m)\u001b[0m\u001b[0;34m\u001b[0m\u001b[0m\n",
      "\u001b[0;32m/Applications/anaconda/lib/python3.6/site-packages/pandas/io/parsers.py\u001b[0m in \u001b[0;36mparser_f\u001b[0;34m(filepath_or_buffer, sep, delimiter, header, names, index_col, usecols, squeeze, prefix, mangle_dupe_cols, dtype, engine, converters, true_values, false_values, skipinitialspace, skiprows, nrows, na_values, keep_default_na, na_filter, verbose, skip_blank_lines, parse_dates, infer_datetime_format, keep_date_col, date_parser, dayfirst, iterator, chunksize, compression, thousands, decimal, lineterminator, quotechar, quoting, escapechar, comment, encoding, dialect, tupleize_cols, error_bad_lines, warn_bad_lines, skipfooter, skip_footer, doublequote, delim_whitespace, as_recarray, compact_ints, use_unsigned, low_memory, buffer_lines, memory_map, float_precision)\u001b[0m\n\u001b[1;32m    644\u001b[0m                     skip_blank_lines=skip_blank_lines)\n\u001b[1;32m    645\u001b[0m \u001b[0;34m\u001b[0m\u001b[0m\n\u001b[0;32m--> 646\u001b[0;31m         \u001b[0;32mreturn\u001b[0m \u001b[0m_read\u001b[0m\u001b[0;34m(\u001b[0m\u001b[0mfilepath_or_buffer\u001b[0m\u001b[0;34m,\u001b[0m \u001b[0mkwds\u001b[0m\u001b[0;34m)\u001b[0m\u001b[0;34m\u001b[0m\u001b[0m\n\u001b[0m\u001b[1;32m    647\u001b[0m \u001b[0;34m\u001b[0m\u001b[0m\n\u001b[1;32m    648\u001b[0m     \u001b[0mparser_f\u001b[0m\u001b[0;34m.\u001b[0m\u001b[0m__name__\u001b[0m \u001b[0;34m=\u001b[0m \u001b[0mname\u001b[0m\u001b[0;34m\u001b[0m\u001b[0m\n",
      "\u001b[0;32m/Applications/anaconda/lib/python3.6/site-packages/pandas/io/parsers.py\u001b[0m in \u001b[0;36m_read\u001b[0;34m(filepath_or_buffer, kwds)\u001b[0m\n\u001b[1;32m    387\u001b[0m \u001b[0;34m\u001b[0m\u001b[0m\n\u001b[1;32m    388\u001b[0m     \u001b[0;31m# Create the parser.\u001b[0m\u001b[0;34m\u001b[0m\u001b[0;34m\u001b[0m\u001b[0m\n\u001b[0;32m--> 389\u001b[0;31m     \u001b[0mparser\u001b[0m \u001b[0;34m=\u001b[0m \u001b[0mTextFileReader\u001b[0m\u001b[0;34m(\u001b[0m\u001b[0mfilepath_or_buffer\u001b[0m\u001b[0;34m,\u001b[0m \u001b[0;34m**\u001b[0m\u001b[0mkwds\u001b[0m\u001b[0;34m)\u001b[0m\u001b[0;34m\u001b[0m\u001b[0m\n\u001b[0m\u001b[1;32m    390\u001b[0m \u001b[0;34m\u001b[0m\u001b[0m\n\u001b[1;32m    391\u001b[0m     \u001b[0;32mif\u001b[0m \u001b[0;34m(\u001b[0m\u001b[0mnrows\u001b[0m \u001b[0;32mis\u001b[0m \u001b[0;32mnot\u001b[0m \u001b[0;32mNone\u001b[0m\u001b[0;34m)\u001b[0m \u001b[0;32mand\u001b[0m \u001b[0;34m(\u001b[0m\u001b[0mchunksize\u001b[0m \u001b[0;32mis\u001b[0m \u001b[0;32mnot\u001b[0m \u001b[0;32mNone\u001b[0m\u001b[0;34m)\u001b[0m\u001b[0;34m:\u001b[0m\u001b[0;34m\u001b[0m\u001b[0m\n",
      "\u001b[0;32m/Applications/anaconda/lib/python3.6/site-packages/pandas/io/parsers.py\u001b[0m in \u001b[0;36m__init__\u001b[0;34m(self, f, engine, **kwds)\u001b[0m\n\u001b[1;32m    728\u001b[0m             \u001b[0mself\u001b[0m\u001b[0;34m.\u001b[0m\u001b[0moptions\u001b[0m\u001b[0;34m[\u001b[0m\u001b[0;34m'has_index_names'\u001b[0m\u001b[0;34m]\u001b[0m \u001b[0;34m=\u001b[0m \u001b[0mkwds\u001b[0m\u001b[0;34m[\u001b[0m\u001b[0;34m'has_index_names'\u001b[0m\u001b[0;34m]\u001b[0m\u001b[0;34m\u001b[0m\u001b[0m\n\u001b[1;32m    729\u001b[0m \u001b[0;34m\u001b[0m\u001b[0m\n\u001b[0;32m--> 730\u001b[0;31m         \u001b[0mself\u001b[0m\u001b[0;34m.\u001b[0m\u001b[0m_make_engine\u001b[0m\u001b[0;34m(\u001b[0m\u001b[0mself\u001b[0m\u001b[0;34m.\u001b[0m\u001b[0mengine\u001b[0m\u001b[0;34m)\u001b[0m\u001b[0;34m\u001b[0m\u001b[0m\n\u001b[0m\u001b[1;32m    731\u001b[0m \u001b[0;34m\u001b[0m\u001b[0m\n\u001b[1;32m    732\u001b[0m     \u001b[0;32mdef\u001b[0m \u001b[0mclose\u001b[0m\u001b[0;34m(\u001b[0m\u001b[0mself\u001b[0m\u001b[0;34m)\u001b[0m\u001b[0;34m:\u001b[0m\u001b[0;34m\u001b[0m\u001b[0m\n",
      "\u001b[0;32m/Applications/anaconda/lib/python3.6/site-packages/pandas/io/parsers.py\u001b[0m in \u001b[0;36m_make_engine\u001b[0;34m(self, engine)\u001b[0m\n\u001b[1;32m    921\u001b[0m     \u001b[0;32mdef\u001b[0m \u001b[0m_make_engine\u001b[0m\u001b[0;34m(\u001b[0m\u001b[0mself\u001b[0m\u001b[0;34m,\u001b[0m \u001b[0mengine\u001b[0m\u001b[0;34m=\u001b[0m\u001b[0;34m'c'\u001b[0m\u001b[0;34m)\u001b[0m\u001b[0;34m:\u001b[0m\u001b[0;34m\u001b[0m\u001b[0m\n\u001b[1;32m    922\u001b[0m         \u001b[0;32mif\u001b[0m \u001b[0mengine\u001b[0m \u001b[0;34m==\u001b[0m \u001b[0;34m'c'\u001b[0m\u001b[0;34m:\u001b[0m\u001b[0;34m\u001b[0m\u001b[0m\n\u001b[0;32m--> 923\u001b[0;31m             \u001b[0mself\u001b[0m\u001b[0;34m.\u001b[0m\u001b[0m_engine\u001b[0m \u001b[0;34m=\u001b[0m \u001b[0mCParserWrapper\u001b[0m\u001b[0;34m(\u001b[0m\u001b[0mself\u001b[0m\u001b[0;34m.\u001b[0m\u001b[0mf\u001b[0m\u001b[0;34m,\u001b[0m \u001b[0;34m**\u001b[0m\u001b[0mself\u001b[0m\u001b[0;34m.\u001b[0m\u001b[0moptions\u001b[0m\u001b[0;34m)\u001b[0m\u001b[0;34m\u001b[0m\u001b[0m\n\u001b[0m\u001b[1;32m    924\u001b[0m         \u001b[0;32melse\u001b[0m\u001b[0;34m:\u001b[0m\u001b[0;34m\u001b[0m\u001b[0m\n\u001b[1;32m    925\u001b[0m             \u001b[0;32mif\u001b[0m \u001b[0mengine\u001b[0m \u001b[0;34m==\u001b[0m \u001b[0;34m'python'\u001b[0m\u001b[0;34m:\u001b[0m\u001b[0;34m\u001b[0m\u001b[0m\n",
      "\u001b[0;32m/Applications/anaconda/lib/python3.6/site-packages/pandas/io/parsers.py\u001b[0m in \u001b[0;36m__init__\u001b[0;34m(self, src, **kwds)\u001b[0m\n\u001b[1;32m   1388\u001b[0m         \u001b[0mkwds\u001b[0m\u001b[0;34m[\u001b[0m\u001b[0;34m'allow_leading_cols'\u001b[0m\u001b[0;34m]\u001b[0m \u001b[0;34m=\u001b[0m \u001b[0mself\u001b[0m\u001b[0;34m.\u001b[0m\u001b[0mindex_col\u001b[0m \u001b[0;32mis\u001b[0m \u001b[0;32mnot\u001b[0m \u001b[0;32mFalse\u001b[0m\u001b[0;34m\u001b[0m\u001b[0m\n\u001b[1;32m   1389\u001b[0m \u001b[0;34m\u001b[0m\u001b[0m\n\u001b[0;32m-> 1390\u001b[0;31m         \u001b[0mself\u001b[0m\u001b[0;34m.\u001b[0m\u001b[0m_reader\u001b[0m \u001b[0;34m=\u001b[0m \u001b[0m_parser\u001b[0m\u001b[0;34m.\u001b[0m\u001b[0mTextReader\u001b[0m\u001b[0;34m(\u001b[0m\u001b[0msrc\u001b[0m\u001b[0;34m,\u001b[0m \u001b[0;34m**\u001b[0m\u001b[0mkwds\u001b[0m\u001b[0;34m)\u001b[0m\u001b[0;34m\u001b[0m\u001b[0m\n\u001b[0m\u001b[1;32m   1391\u001b[0m \u001b[0;34m\u001b[0m\u001b[0m\n\u001b[1;32m   1392\u001b[0m         \u001b[0;31m# XXX\u001b[0m\u001b[0;34m\u001b[0m\u001b[0;34m\u001b[0m\u001b[0m\n",
      "\u001b[0;32mpandas/parser.pyx\u001b[0m in \u001b[0;36mpandas.parser.TextReader.__cinit__ (pandas/parser.c:4184)\u001b[0;34m()\u001b[0m\n",
      "\u001b[0;32mpandas/parser.pyx\u001b[0m in \u001b[0;36mpandas.parser.TextReader._setup_parser_source (pandas/parser.c:8449)\u001b[0;34m()\u001b[0m\n",
      "\u001b[0;31mFileNotFoundError\u001b[0m: File b'/Users/wgan/Desktop/kaggledecal/datasets/home_depot/train.csv' does not exist"
     ]
    }
   ],
   "source": [
    "# Home Depot Data Set\n",
    "import re #For regular expressions\n",
    "\n",
    "#Remember to change your path appropriately!\n",
    "hd = pd.read_csv(\"~/Desktop/kaggledecal/datasets/home_depot/train.csv\", encoding=\"ISO-8859-1\")\n",
    "hd.head()"
   ]
  },
  {
   "cell_type": "code",
   "execution_count": 36,
   "metadata": {
    "collapsed": false
   },
   "outputs": [
    {
     "data": {
      "text/plain": [
       "(74067, 5)"
      ]
     },
     "execution_count": 36,
     "metadata": {},
     "output_type": "execute_result"
    }
   ],
   "source": [
    "hd.shape"
   ]
  },
  {
   "cell_type": "code",
   "execution_count": 39,
   "metadata": {
    "collapsed": true
   },
   "outputs": [],
   "source": [
    "#Used to convert spelled out numbers to the actual digits\n",
    "strNum = {'zero':0,'one':1,'two':2,'three':3,'four':4,'five':5,'six':6,'seven':7,'eight':8,'nine':9} "
   ]
  },
  {
   "cell_type": "code",
   "execution_count": 40,
   "metadata": {
    "collapsed": true
   },
   "outputs": [],
   "source": [
    "#And here's the list of regex! Credits to the1owl on Kaggle for compiling all of this\n",
    "\n",
    "hd['cleaned_product_title'] = hd['product_title'].map(lambda s: re.sub(r\"(\\w)\\.([A-Z])\", r\"\\1 \\2\", s)) #Split words with a.A"
   ]
  },
  {
   "cell_type": "code",
   "execution_count": 41,
   "metadata": {
    "collapsed": false
   },
   "outputs": [
    {
     "data": {
      "text/html": [
       "<div>\n",
       "<table border=\"1\" class=\"dataframe\">\n",
       "  <thead>\n",
       "    <tr style=\"text-align: right;\">\n",
       "      <th></th>\n",
       "      <th>id</th>\n",
       "      <th>product_uid</th>\n",
       "      <th>product_title</th>\n",
       "      <th>search_term</th>\n",
       "      <th>relevance</th>\n",
       "      <th>cleaned_product_title</th>\n",
       "    </tr>\n",
       "  </thead>\n",
       "  <tbody>\n",
       "    <tr>\n",
       "      <th>0</th>\n",
       "      <td>2</td>\n",
       "      <td>100001</td>\n",
       "      <td>Simpson Strong-Tie 12-Gauge Angle</td>\n",
       "      <td>angle bracket</td>\n",
       "      <td>3.00</td>\n",
       "      <td>Simpson Strong-Tie 12-Gauge Angle</td>\n",
       "    </tr>\n",
       "    <tr>\n",
       "      <th>1</th>\n",
       "      <td>3</td>\n",
       "      <td>100001</td>\n",
       "      <td>Simpson Strong-Tie 12-Gauge Angle</td>\n",
       "      <td>l bracket</td>\n",
       "      <td>2.50</td>\n",
       "      <td>Simpson Strong-Tie 12-Gauge Angle</td>\n",
       "    </tr>\n",
       "    <tr>\n",
       "      <th>2</th>\n",
       "      <td>9</td>\n",
       "      <td>100002</td>\n",
       "      <td>BEHR Premium Textured DeckOver 1-gal. #SC-141 ...</td>\n",
       "      <td>deck over</td>\n",
       "      <td>3.00</td>\n",
       "      <td>BEHR Premium Textured DeckOver 1-gal. #SC-141 ...</td>\n",
       "    </tr>\n",
       "    <tr>\n",
       "      <th>3</th>\n",
       "      <td>16</td>\n",
       "      <td>100005</td>\n",
       "      <td>Delta Vero 1-Handle Shower Only Faucet Trim Ki...</td>\n",
       "      <td>rain shower head</td>\n",
       "      <td>2.33</td>\n",
       "      <td>Delta Vero 1-Handle Shower Only Faucet Trim Ki...</td>\n",
       "    </tr>\n",
       "    <tr>\n",
       "      <th>4</th>\n",
       "      <td>17</td>\n",
       "      <td>100005</td>\n",
       "      <td>Delta Vero 1-Handle Shower Only Faucet Trim Ki...</td>\n",
       "      <td>shower only faucet</td>\n",
       "      <td>2.67</td>\n",
       "      <td>Delta Vero 1-Handle Shower Only Faucet Trim Ki...</td>\n",
       "    </tr>\n",
       "  </tbody>\n",
       "</table>\n",
       "</div>"
      ],
      "text/plain": [
       "   id  product_uid                                      product_title  \\\n",
       "0   2       100001                  Simpson Strong-Tie 12-Gauge Angle   \n",
       "1   3       100001                  Simpson Strong-Tie 12-Gauge Angle   \n",
       "2   9       100002  BEHR Premium Textured DeckOver 1-gal. #SC-141 ...   \n",
       "3  16       100005  Delta Vero 1-Handle Shower Only Faucet Trim Ki...   \n",
       "4  17       100005  Delta Vero 1-Handle Shower Only Faucet Trim Ki...   \n",
       "\n",
       "          search_term  relevance  \\\n",
       "0       angle bracket       3.00   \n",
       "1           l bracket       2.50   \n",
       "2           deck over       3.00   \n",
       "3    rain shower head       2.33   \n",
       "4  shower only faucet       2.67   \n",
       "\n",
       "                               cleaned_product_title  \n",
       "0                  Simpson Strong-Tie 12-Gauge Angle  \n",
       "1                  Simpson Strong-Tie 12-Gauge Angle  \n",
       "2  BEHR Premium Textured DeckOver 1-gal. #SC-141 ...  \n",
       "3  Delta Vero 1-Handle Shower Only Faucet Trim Ki...  \n",
       "4  Delta Vero 1-Handle Shower Only Faucet Trim Ki...  "
      ]
     },
     "execution_count": 41,
     "metadata": {},
     "output_type": "execute_result"
    }
   ],
   "source": [
    "hd.head()"
   ]
  },
  {
   "cell_type": "code",
   "execution_count": 42,
   "metadata": {
    "collapsed": true
   },
   "outputs": [],
   "source": [
    "hd['cleaned_product_title'] = hd['cleaned_product_title'].map(lambda s: s.lower())\n",
    "hd['cleaned_product_title'] = hd['cleaned_product_title'].map(lambda s: s.replace(\"  \",\" \"))\n",
    "hd['cleaned_product_title'] = hd['cleaned_product_title'].map(lambda s: s.replace(\",\",\"\")) #could be number / segment later\n",
    "hd['cleaned_product_title'] = hd['cleaned_product_title'].map(lambda s: s.replace(\"$\",\" \"))\n",
    "hd['cleaned_product_title'] = hd['cleaned_product_title'].map(lambda s: s.replace(\"?\",\" \"))\n",
    "hd['cleaned_product_title'] = hd['cleaned_product_title'].map(lambda s: s.replace(\"-\",\" \"))\n",
    "hd['cleaned_product_title'] = hd['cleaned_product_title'].map(lambda s: s.replace(\"//\",\"/\"))\n",
    "hd['cleaned_product_title'] = hd['cleaned_product_title'].map(lambda s: s.replace(\"..\",\".\"))\n",
    "hd['cleaned_product_title'] = hd['cleaned_product_title'].map(lambda s: s.replace(\" \\\\ \",\" \"))\n",
    "hd['cleaned_product_title'] = hd['cleaned_product_title'].map(lambda s: s.replace(\".\",\" . \"))\n",
    "hd['cleaned_product_title'] = hd['cleaned_product_title'].map(lambda s: re.sub(r\"(^\\.|/)\", r\"\", s))\n",
    "hd['cleaned_product_title'] = hd['cleaned_product_title'].map(lambda s: re.sub(r\"(\\.|/)$\", r\"\", s))\n",
    "hd['cleaned_product_title'] = hd['cleaned_product_title'].map(lambda s: re.sub(r\"([0-9])([a-z])\", r\"\\1 \\2\", s))\n",
    "hd['cleaned_product_title'] = hd['cleaned_product_title'].map(lambda s: re.sub(r\"([a-z])([0-9])\", r\"\\1 \\2\", s))\n",
    "hd['cleaned_product_title'] = hd['cleaned_product_title'].map(lambda s: s.replace(\" x \",\" xbi \"))\n",
    "hd['cleaned_product_title'] = hd['cleaned_product_title'].map(lambda s: re.sub(r\"([a-z])( *)\\.( *)([a-z])\", r\"\\1 \\4\", s))\n",
    "hd['cleaned_product_title'] = hd['cleaned_product_title'].map(lambda s: re.sub(r\"([a-z])( *)/( *)([a-z])\", r\"\\1 \\4\", s))\n",
    "hd['cleaned_product_title'] = hd['cleaned_product_title'].map(lambda s: s.replace(\"*\",\" xbi \"))\n",
    "hd['cleaned_product_title'] = hd['cleaned_product_title'].map(lambda s: s.replace(\" by \",\" xbi \"))\n",
    "hd['cleaned_product_title'] = hd['cleaned_product_title'].map(lambda s: re.sub(r\"([0-9])( *)\\.( *)([0-9])\", r\"\\1.\\4\", s))\n",
    "hd['cleaned_product_title'] = hd['cleaned_product_title'].map(lambda s: re.sub(r\"([0-9]+)( *)(inches|inch|in|')\\.?\", r\"\\1in. \", s))\n",
    "hd['cleaned_product_title'] = hd['cleaned_product_title'].map(lambda s: re.sub(r\"([0-9]+)( *)(foot|feet|ft|'')\\.?\", r\"\\1ft. \", s))\n",
    "hd['cleaned_product_title'] = hd['cleaned_product_title'].map(lambda s: re.sub(r\"([0-9]+)( *)(pounds|pound|lbs|lb)\\.?\", r\"\\1lb. \", s))\n",
    "hd['cleaned_product_title'] = hd['cleaned_product_title'].map(lambda s: re.sub(r\"([0-9]+)( *)(square|sq) ?\\.?(feet|foot|ft)\\.?\", r\"\\1sq.ft. \", s))\n",
    "hd['cleaned_product_title'] = hd['cleaned_product_title'].map(lambda s: re.sub(r\"([0-9]+)( *)(cubic|cu) ?\\.?(feet|foot|ft)\\.?\", r\"\\1cu.ft. \", s))\n",
    "hd['cleaned_product_title'] = hd['cleaned_product_title'].map(lambda s: re.sub(r\"([0-9]+)( *)(gallons|gallon|gal)\\.?\", r\"\\1gal. \", s))\n",
    "hd['cleaned_product_title'] = hd['cleaned_product_title'].map(lambda s: re.sub(r\"([0-9]+)( *)(ounces|ounce|oz)\\.?\", r\"\\1oz. \", s))\n",
    "hd['cleaned_product_title'] = hd['cleaned_product_title'].map(lambda s: re.sub(r\"([0-9]+)( *)(centimeters|cm)\\.?\", r\"\\1cm. \", s))\n",
    "hd['cleaned_product_title'] = hd['cleaned_product_title'].map(lambda s: re.sub(r\"([0-9]+)( *)(milimeters|mm)\\.?\", r\"\\1mm. \", s))\n",
    "hd['cleaned_product_title'] = hd['cleaned_product_title'].map(lambda s: s.replace(\"°\",\" degrees \"))\n",
    "hd['cleaned_product_title'] = hd['cleaned_product_title'].map(lambda s: re.sub(r\"([0-9]+)( *)(degrees|degree)\\.?\", r\"\\1deg. \", s))\n",
    "hd['cleaned_product_title'] = hd['cleaned_product_title'].map(lambda s: s.replace(\" v \",\" volts \"))\n",
    "hd['cleaned_product_title'] = hd['cleaned_product_title'].map(lambda s: re.sub(r\"([0-9]+)( *)(volts|volt)\\.?\", r\"\\1volt. \", s))\n",
    "hd['cleaned_product_title'] = hd['cleaned_product_title'].map(lambda s: re.sub(r\"([0-9]+)( *)(watts|watt)\\.?\", r\"\\1watt. \", s))\n",
    "hd['cleaned_product_title'] = hd['cleaned_product_title'].map(lambda s: re.sub(r\"([0-9]+)( *)(amperes|ampere|amps|amp)\\.?\", r\"\\1amp. \", s))\n",
    "hd['cleaned_product_title'] = hd['cleaned_product_title'].map(lambda s: s.replace(\"  \",\" \"))\n",
    "hd['cleaned_product_title'] = hd['cleaned_product_title'].map(lambda s: s.replace(\" . \",\" \"))\n",
    "hd['cleaned_product_title'] = hd['cleaned_product_title'].map(lambda s: (\" \").join([str(strNum[z]) if z in strNum else z for z in s.split(\" \")]))\n",
    "hd['cleaned_product_title'] = hd['cleaned_product_title'].map(lambda s: s.lower())\n",
    "hd['cleaned_product_title'] = hd['cleaned_product_title'].map(lambda s: s.replace(\"toliet\",\"toilet\")) \n",
    "hd['cleaned_product_title'] = hd['cleaned_product_title'].map(lambda s: s.replace(\"airconditioner\",\"air conditioner\")) \n",
    "hd['cleaned_product_title'] = hd['cleaned_product_title'].map(lambda s: s.replace(\"vinal\",\"vinyl\")) \n",
    "hd['cleaned_product_title'] = hd['cleaned_product_title'].map(lambda s: s.replace(\"vynal\",\"vinyl\")) \n",
    "hd['cleaned_product_title'] = hd['cleaned_product_title'].map(lambda s: s.replace(\"skill\",\"skil\")) \n",
    "hd['cleaned_product_title'] = hd['cleaned_product_title'].map(lambda s: s.replace(\"snowbl\",\"snow bl\")) \n",
    "hd['cleaned_product_title'] = hd['cleaned_product_title'].map(lambda s: s.replace(\"plexigla\",\"plexi gla\")) \n",
    "hd['cleaned_product_title'] = hd['cleaned_product_title'].map(lambda s: s.replace(\"rustoleum\",\"rust-oleum\")) \n",
    "hd['cleaned_product_title'] = hd['cleaned_product_title'].map(lambda s: s.replace(\"whirpool\",\"whirlpool\")) \n",
    "hd['cleaned_product_title'] = hd['cleaned_product_title'].map(lambda s: s.replace(\"whirlpoolga\", \"whirlpool ga\")) \n",
    "hd['cleaned_product_title'] = hd['cleaned_product_title'].map(lambda s: s.replace(\"whirlpoolstainless\",\"whirlpool stainless\")) "
   ]
  },
  {
   "cell_type": "code",
   "execution_count": 43,
   "metadata": {
    "collapsed": false
   },
   "outputs": [
    {
     "data": {
      "text/html": [
       "<div>\n",
       "<table border=\"1\" class=\"dataframe\">\n",
       "  <thead>\n",
       "    <tr style=\"text-align: right;\">\n",
       "      <th></th>\n",
       "      <th>id</th>\n",
       "      <th>product_uid</th>\n",
       "      <th>product_title</th>\n",
       "      <th>search_term</th>\n",
       "      <th>relevance</th>\n",
       "      <th>cleaned_product_title</th>\n",
       "    </tr>\n",
       "  </thead>\n",
       "  <tbody>\n",
       "    <tr>\n",
       "      <th>0</th>\n",
       "      <td>2</td>\n",
       "      <td>100001</td>\n",
       "      <td>Simpson Strong-Tie 12-Gauge Angle</td>\n",
       "      <td>angle bracket</td>\n",
       "      <td>3.00</td>\n",
       "      <td>simpson strong tie 12 gauge angle</td>\n",
       "    </tr>\n",
       "    <tr>\n",
       "      <th>1</th>\n",
       "      <td>3</td>\n",
       "      <td>100001</td>\n",
       "      <td>Simpson Strong-Tie 12-Gauge Angle</td>\n",
       "      <td>l bracket</td>\n",
       "      <td>2.50</td>\n",
       "      <td>simpson strong tie 12 gauge angle</td>\n",
       "    </tr>\n",
       "    <tr>\n",
       "      <th>2</th>\n",
       "      <td>9</td>\n",
       "      <td>100002</td>\n",
       "      <td>BEHR Premium Textured DeckOver 1-gal. #SC-141 ...</td>\n",
       "      <td>deck over</td>\n",
       "      <td>3.00</td>\n",
       "      <td>behr premium textured deckover 1gal. #sc 141 t...</td>\n",
       "    </tr>\n",
       "    <tr>\n",
       "      <th>3</th>\n",
       "      <td>16</td>\n",
       "      <td>100005</td>\n",
       "      <td>Delta Vero 1-Handle Shower Only Faucet Trim Ki...</td>\n",
       "      <td>rain shower head</td>\n",
       "      <td>2.33</td>\n",
       "      <td>delta vero 1 handle shower only faucet trim ki...</td>\n",
       "    </tr>\n",
       "    <tr>\n",
       "      <th>4</th>\n",
       "      <td>17</td>\n",
       "      <td>100005</td>\n",
       "      <td>Delta Vero 1-Handle Shower Only Faucet Trim Ki...</td>\n",
       "      <td>shower only faucet</td>\n",
       "      <td>2.67</td>\n",
       "      <td>delta vero 1 handle shower only faucet trim ki...</td>\n",
       "    </tr>\n",
       "  </tbody>\n",
       "</table>\n",
       "</div>"
      ],
      "text/plain": [
       "   id  product_uid                                      product_title  \\\n",
       "0   2       100001                  Simpson Strong-Tie 12-Gauge Angle   \n",
       "1   3       100001                  Simpson Strong-Tie 12-Gauge Angle   \n",
       "2   9       100002  BEHR Premium Textured DeckOver 1-gal. #SC-141 ...   \n",
       "3  16       100005  Delta Vero 1-Handle Shower Only Faucet Trim Ki...   \n",
       "4  17       100005  Delta Vero 1-Handle Shower Only Faucet Trim Ki...   \n",
       "\n",
       "          search_term  relevance  \\\n",
       "0       angle bracket       3.00   \n",
       "1           l bracket       2.50   \n",
       "2           deck over       3.00   \n",
       "3    rain shower head       2.33   \n",
       "4  shower only faucet       2.67   \n",
       "\n",
       "                               cleaned_product_title  \n",
       "0                  simpson strong tie 12 gauge angle  \n",
       "1                  simpson strong tie 12 gauge angle  \n",
       "2  behr premium textured deckover 1gal. #sc 141 t...  \n",
       "3  delta vero 1 handle shower only faucet trim ki...  \n",
       "4  delta vero 1 handle shower only faucet trim ki...  "
      ]
     },
     "execution_count": 43,
     "metadata": {},
     "output_type": "execute_result"
    }
   ],
   "source": [
    "hd.head()"
   ]
  },
  {
   "cell_type": "markdown",
   "metadata": {},
   "source": [
    "In order to better understand what each line does, let's break this down a bit:"
   ]
  },
  {
   "cell_type": "markdown",
   "metadata": {},
   "source": [
    "s = re.sub(r\"(\\w)\\.([A-Z])\", r\"\\1 \\2\", s) #Split words with a.A"
   ]
  },
  {
   "cell_type": "markdown",
   "metadata": {},
   "source": [
    "The prefix \"r\" represents that whatever comes next should be interpretted as a \"raw string\" \n",
    "Since python tries to be smart and convert, say, \"\\b\" to mean \"backspace\" for you, this won't be converted correctly in regex.\n",
    "Prefixing your regex patterns with \"r\" will tell python to hand over the \"raw string\" pattern for normal regex to work.\n",
    "\n",
    "The \"\\1\" code means \"take the first regex group in parantheses and put it here\". In this example, we put whatever valid word character\n",
    "\"(\\w)\" captures into the \\1 spot and whatever capital letter \"([A-Z])\" catures into the \\2 spot.\n"
   ]
  },
  {
   "cell_type": "code",
   "execution_count": 46,
   "metadata": {
    "collapsed": false
   },
   "outputs": [
    {
     "name": "stderr",
     "output_type": "stream",
     "text": [
      "/Users/jerrychen/anaconda/lib/python3.5/site-packages/ipykernel/__main__.py:2: UserWarning: This pattern has match groups. To actually get the groups, use str.extract.\n",
      "  from ipykernel import kernelapp as app\n"
     ]
    },
    {
     "data": {
      "text/plain": [
       "709      U.S. Ceramic Tile Bright Snow White 3/4 in. x ...\n",
       "710      U.S. Ceramic Tile Bright Snow White 3/4 in. x ...\n",
       "2188     Homewerks Worldwide 3/8 in. O.D. x 1/2 in. IPS...\n",
       "2189     Homewerks Worldwide 3/8 in. O.D. x 1/2 in. IPS...\n",
       "2340     U.S. Ceramic Tile Color Collection Bright Snow...\n",
       "2967     U.S. Ceramic Tile Bright Snow White Brick 12 i...\n",
       "2968     U.S. Ceramic Tile Bright Snow White Brick 12 i...\n",
       "2969     U.S. Ceramic Tile Bright Snow White Brick 12 i...\n",
       "2970     U.S. Ceramic Tile Bright Snow White Brick 12 i...\n",
       "2971     U.S. Ceramic Tile Bright Snow White Brick 12 i...\n",
       "2972     U.S. Ceramic Tile Bright Snow White Brick 12 i...\n",
       "2973     U.S. Ceramic Tile Bright Snow White Brick 12 i...\n",
       "3029     U.S. Ceramic Tile 4-1/4 in. x 4-1/4 in. Bright...\n",
       "3447     U.S. Ceramic Tile Color Collection Bright Snow...\n",
       "3448     U.S. Ceramic Tile Color Collection Bright Snow...\n",
       "3491     Watts 5/16 in. O.D. x 1/4 in. O.D. Plastic Cou...\n",
       "5513     U.S. Ceramic Tile Terra Cotta 16 in. x 16 in. ...\n",
       "5514     U.S. Ceramic Tile Terra Cotta 16 in. x 16 in. ...\n",
       "5589     U.S. Ceramic Tile Color Collection Bright Snow...\n",
       "5590     U.S. Ceramic Tile Color Collection Bright Snow...\n",
       "5591     U.S. Ceramic Tile Color Collection Bright Snow...\n",
       "5592     U.S. Ceramic Tile Color Collection Bright Snow...\n",
       "5593     U.S. Ceramic Tile Color Collection Bright Snow...\n",
       "5594     U.S. Ceramic Tile Color Collection Bright Snow...\n",
       "5595     U.S. Ceramic Tile Color Collection Bright Snow...\n",
       "5882       T.W. Evans Cordage 50 ft. Paracord Display Hank\n",
       "5885     U.S. Ceramic Tile Bright Snow White 2 in. x 6 ...\n",
       "5886     U.S. Ceramic Tile Bright Snow White 2 in. x 6 ...\n",
       "5887     U.S. Ceramic Tile Bright Snow White 2 in. x 6 ...\n",
       "5888     U.S. Ceramic Tile Bright Snow White 2 in. x 6 ...\n",
       "                               ...                        \n",
       "70387    Westbrass 4 in. O.D. Shower Strainer Cover Pla...\n",
       "70410    ProCoat 1/2 in. FIP x 1/2 in. MIP x 36 in. Sta...\n",
       "70585    Home Legend Wire Brushed Wilderness Oak 3/8 in...\n",
       "70655    T.A. Industries 2 in. x 12 in. Brown Plastic F...\n",
       "70861    T.A. Industries 4 in. x 12 in. Brown Plastic F...\n",
       "70919    U.S. Ceramic Tile Bright Black 4-1/4 in. x 10 ...\n",
       "71061    BrassCraft Safety+PLUS 1/2 in. MIP Excess Flow...\n",
       "71307    BrassCraft Safety+PLUS 1/2 in. MIP Excess Flow...\n",
       "71413    John Guest 3/8 in. O.D. x 1/4 in. NPTF Push-to...\n",
       "71520    BrassCraft 1/2 in. Nominal Compression Inlet x...\n",
       "71617    U.S. Ceramic Tile Color Collection Matte Bone ...\n",
       "71890    American Imaginations Rectangle Undermount Bat...\n",
       "72208    NuTone College Pride U.S. Naval Academy Wirele...\n",
       "72704    U.S. Ceramic Tile Orion Blanco 16 in. x 16 in....\n",
       "72950    U.S. Ceramic Tile Color Collection Matte Bone ...\n",
       "73012    U.S. Ceramic Tile Color Collection Matte Bone ...\n",
       "73066    DuraHook 1-7/8 in. Double Ring 3/4 in. I.D. Zi...\n",
       "73075    U.S. Ceramic Tile Color Collection Matte Bone ...\n",
       "73114             Seasonal Designs 4 ft. x 6 ft. U.S. Flag\n",
       "73354    BrassCraft Safety+PLUS 1/2 in. MIP Excess Flow...\n",
       "73361    BrassCraft 3/8 in. O.D. x 36 in. PEX Faucet Ri...\n",
       "73517    John Guest 3/8 in. O.D. x 3/8 in. NPTF Push-to...\n",
       "73519    BrassCraft 1-1/4 in. O.D. Compression x 1-1/4 ...\n",
       "73572    Valley Forge Flag 3 ft. x 5 ft. Polyester U.S....\n",
       "73601    Trademark U.S. Army This We&#39;ll Defend Chro...\n",
       "73606    T.W. Evans Cordage 7/32 in. x 150 ft. Evandale...\n",
       "73826    US Sunlight 30 ft. of Wire Extension Kit for U...\n",
       "73847    Prime-Line 1Ea 6 in. x 34 in.Solid Polished Br...\n",
       "73964    BrassCraft 3/8 in. FIP Inlet x 1/2 in. O.D. Co...\n",
       "73970    EZ-FLO 1-1/4 in. x 5 in. 1-Piece P.O. Plug, Ch...\n",
       "Name: product_title, dtype: object"
      ]
     },
     "execution_count": 46,
     "metadata": {},
     "output_type": "execute_result"
    }
   ],
   "source": [
    "pattern = r\"(\\w)\\.([A-Z])\"\n",
    "matches = hd.product_title.str.contains(pattern)\n",
    "hd.product_title.iloc[np.where(matches)]\n"
   ]
  },
  {
   "cell_type": "code",
   "execution_count": 47,
   "metadata": {
    "collapsed": false
   },
   "outputs": [
    {
     "data": {
      "text/plain": [
       "'EZ-FLO 1-1/4 in. x 5 in. 1-Piece P.O. Plug, Chrome'"
      ]
     },
     "execution_count": 47,
     "metadata": {},
     "output_type": "execute_result"
    }
   ],
   "source": [
    "s = hd.product_title.iloc[73970]\n",
    "s"
   ]
  },
  {
   "cell_type": "code",
   "execution_count": 48,
   "metadata": {
    "collapsed": true
   },
   "outputs": [],
   "source": [
    "s = re.sub(r\"(\\w)\\.([A-Z])\", r\"\\1 \\2\", s)"
   ]
  },
  {
   "cell_type": "code",
   "execution_count": 49,
   "metadata": {
    "collapsed": false
   },
   "outputs": [
    {
     "data": {
      "text/plain": [
       "'EZ-FLO 1-1/4 in. x 5 in. 1-Piece P O. Plug, Chrome'"
      ]
     },
     "execution_count": 49,
     "metadata": {},
     "output_type": "execute_result"
    }
   ],
   "source": [
    "s"
   ]
  },
  {
   "cell_type": "markdown",
   "metadata": {},
   "source": [
    "# Back to Feature Engineering"
   ]
  },
  {
   "cell_type": "markdown",
   "metadata": {},
   "source": [
    "The following is just a quick demonstration of how to work with time data to extract some meaningful features out of it. We'll be using the Facebook Predicting Checkins data set so please download this before proceeding."
   ]
  },
  {
   "cell_type": "code",
   "execution_count": 54,
   "metadata": {
    "collapsed": false
   },
   "outputs": [
    {
     "data": {
      "text/html": [
       "<div>\n",
       "<table border=\"1\" class=\"dataframe\">\n",
       "  <thead>\n",
       "    <tr style=\"text-align: right;\">\n",
       "      <th></th>\n",
       "      <th>row_id</th>\n",
       "      <th>x</th>\n",
       "      <th>y</th>\n",
       "      <th>accuracy</th>\n",
       "      <th>time</th>\n",
       "      <th>place_id</th>\n",
       "    </tr>\n",
       "  </thead>\n",
       "  <tbody>\n",
       "    <tr>\n",
       "      <th>0</th>\n",
       "      <td>0</td>\n",
       "      <td>0.7941</td>\n",
       "      <td>9.0809</td>\n",
       "      <td>54</td>\n",
       "      <td>470702</td>\n",
       "      <td>8523065625</td>\n",
       "    </tr>\n",
       "    <tr>\n",
       "      <th>1</th>\n",
       "      <td>1</td>\n",
       "      <td>5.9567</td>\n",
       "      <td>4.7968</td>\n",
       "      <td>13</td>\n",
       "      <td>186555</td>\n",
       "      <td>1757726713</td>\n",
       "    </tr>\n",
       "    <tr>\n",
       "      <th>2</th>\n",
       "      <td>2</td>\n",
       "      <td>8.3078</td>\n",
       "      <td>7.0407</td>\n",
       "      <td>74</td>\n",
       "      <td>322648</td>\n",
       "      <td>1137537235</td>\n",
       "    </tr>\n",
       "    <tr>\n",
       "      <th>3</th>\n",
       "      <td>3</td>\n",
       "      <td>7.3665</td>\n",
       "      <td>2.5165</td>\n",
       "      <td>65</td>\n",
       "      <td>704587</td>\n",
       "      <td>6567393236</td>\n",
       "    </tr>\n",
       "    <tr>\n",
       "      <th>4</th>\n",
       "      <td>4</td>\n",
       "      <td>4.0961</td>\n",
       "      <td>1.1307</td>\n",
       "      <td>31</td>\n",
       "      <td>472130</td>\n",
       "      <td>7440663949</td>\n",
       "    </tr>\n",
       "  </tbody>\n",
       "</table>\n",
       "</div>"
      ],
      "text/plain": [
       "   row_id       x       y  accuracy    time    place_id\n",
       "0       0  0.7941  9.0809        54  470702  8523065625\n",
       "1       1  5.9567  4.7968        13  186555  1757726713\n",
       "2       2  8.3078  7.0407        74  322648  1137537235\n",
       "3       3  7.3665  2.5165        65  704587  6567393236\n",
       "4       4  4.0961  1.1307        31  472130  7440663949"
      ]
     },
     "execution_count": 54,
     "metadata": {},
     "output_type": "execute_result"
    }
   ],
   "source": [
    "#FB Data for Date Columns\n",
    "fb = pd.read_csv(\"~/src/kaggledecal/datasets/fb/train.csv\",nrows=10000) #Actually has 30 million rows!\n",
    "\n",
    "fb.head()"
   ]
  },
  {
   "cell_type": "markdown",
   "metadata": {},
   "source": [
    "As you can see, the time column is not in a standard format (e.g. \"Month\"/\"Day\"/\"Year\"). After some debate, the community on Kaggle decided that the values were in minutes and so we will need to convert the minutes column into some tangible date."
   ]
  },
  {
   "cell_type": "code",
   "execution_count": 56,
   "metadata": {
    "collapsed": false
   },
   "outputs": [],
   "source": [
    "\n",
    "initial_date = np.datetime64('2014-01-01T01:01', dtype='datetime64[m]')  #Arbitrary start date\n",
    "d_times = pd.DatetimeIndex(initial_date + np.timedelta64(int(mn), 'm') for mn in fb.time.values) #Dot notation!\n"
   ]
  },
  {
   "cell_type": "code",
   "execution_count": 58,
   "metadata": {
    "collapsed": false
   },
   "outputs": [
    {
     "data": {
      "text/plain": [
       "DatetimeIndex(['2014-11-24 06:03:00', '2014-05-10 22:16:00',\n",
       "               '2014-08-13 10:29:00', '2015-05-05 16:08:00',\n",
       "               '2014-11-25 05:51:00'],\n",
       "              dtype='datetime64[ns]', freq=None)"
      ]
     },
     "execution_count": 58,
     "metadata": {},
     "output_type": "execute_result"
    }
   ],
   "source": [
    "d_times[:5]\n"
   ]
  },
  {
   "cell_type": "code",
   "execution_count": 64,
   "metadata": {
    "collapsed": false
   },
   "outputs": [
    {
     "data": {
      "text/html": [
       "<div>\n",
       "<table border=\"1\" class=\"dataframe\">\n",
       "  <thead>\n",
       "    <tr style=\"text-align: right;\">\n",
       "      <th></th>\n",
       "      <th>row_id</th>\n",
       "      <th>x</th>\n",
       "      <th>y</th>\n",
       "      <th>accuracy</th>\n",
       "      <th>time</th>\n",
       "      <th>place_id</th>\n",
       "      <th>hour</th>\n",
       "      <th>weekday</th>\n",
       "      <th>day</th>\n",
       "      <th>month</th>\n",
       "      <th>year</th>\n",
       "    </tr>\n",
       "  </thead>\n",
       "  <tbody>\n",
       "    <tr>\n",
       "      <th>0</th>\n",
       "      <td>0</td>\n",
       "      <td>0.7941</td>\n",
       "      <td>9.0809</td>\n",
       "      <td>54</td>\n",
       "      <td>470702</td>\n",
       "      <td>8523065625</td>\n",
       "      <td>6</td>\n",
       "      <td>0</td>\n",
       "      <td>24</td>\n",
       "      <td>11</td>\n",
       "      <td>2014</td>\n",
       "    </tr>\n",
       "    <tr>\n",
       "      <th>1</th>\n",
       "      <td>1</td>\n",
       "      <td>5.9567</td>\n",
       "      <td>4.7968</td>\n",
       "      <td>13</td>\n",
       "      <td>186555</td>\n",
       "      <td>1757726713</td>\n",
       "      <td>22</td>\n",
       "      <td>5</td>\n",
       "      <td>10</td>\n",
       "      <td>5</td>\n",
       "      <td>2014</td>\n",
       "    </tr>\n",
       "    <tr>\n",
       "      <th>2</th>\n",
       "      <td>2</td>\n",
       "      <td>8.3078</td>\n",
       "      <td>7.0407</td>\n",
       "      <td>74</td>\n",
       "      <td>322648</td>\n",
       "      <td>1137537235</td>\n",
       "      <td>10</td>\n",
       "      <td>2</td>\n",
       "      <td>13</td>\n",
       "      <td>8</td>\n",
       "      <td>2014</td>\n",
       "    </tr>\n",
       "    <tr>\n",
       "      <th>3</th>\n",
       "      <td>3</td>\n",
       "      <td>7.3665</td>\n",
       "      <td>2.5165</td>\n",
       "      <td>65</td>\n",
       "      <td>704587</td>\n",
       "      <td>6567393236</td>\n",
       "      <td>16</td>\n",
       "      <td>1</td>\n",
       "      <td>5</td>\n",
       "      <td>5</td>\n",
       "      <td>2015</td>\n",
       "    </tr>\n",
       "    <tr>\n",
       "      <th>4</th>\n",
       "      <td>4</td>\n",
       "      <td>4.0961</td>\n",
       "      <td>1.1307</td>\n",
       "      <td>31</td>\n",
       "      <td>472130</td>\n",
       "      <td>7440663949</td>\n",
       "      <td>5</td>\n",
       "      <td>1</td>\n",
       "      <td>25</td>\n",
       "      <td>11</td>\n",
       "      <td>2014</td>\n",
       "    </tr>\n",
       "  </tbody>\n",
       "</table>\n",
       "</div>"
      ],
      "text/plain": [
       "   row_id       x       y  accuracy    time    place_id  hour  weekday  day  \\\n",
       "0       0  0.7941  9.0809        54  470702  8523065625     6        0   24   \n",
       "1       1  5.9567  4.7968        13  186555  1757726713    22        5   10   \n",
       "2       2  8.3078  7.0407        74  322648  1137537235    10        2   13   \n",
       "3       3  7.3665  2.5165        65  704587  6567393236    16        1    5   \n",
       "4       4  4.0961  1.1307        31  472130  7440663949     5        1   25   \n",
       "\n",
       "   month  year  \n",
       "0     11  2014  \n",
       "1      5  2014  \n",
       "2      8  2014  \n",
       "3      5  2015  \n",
       "4     11  2014  "
      ]
     },
     "execution_count": 64,
     "metadata": {},
     "output_type": "execute_result"
    }
   ],
   "source": [
    "fb['hour'] = d_times.hour\n",
    "fb['weekday'] = d_times.weekday \n",
    "fb['day'] = d_times.day \n",
    "fb['month'] = d_times.month\n",
    "fb['year'] = d_times.year\n",
    "fb.head()"
   ]
  },
  {
   "cell_type": "code",
   "execution_count": null,
   "metadata": {
    "collapsed": true
   },
   "outputs": [],
   "source": []
  }
 ],
 "metadata": {
  "kernelspec": {
   "display_name": "Python 3",
   "language": "python",
   "name": "python3"
  },
  "language_info": {
   "codemirror_mode": {
    "name": "ipython",
    "version": 3
   },
   "file_extension": ".py",
   "mimetype": "text/x-python",
   "name": "python",
   "nbconvert_exporter": "python",
   "pygments_lexer": "ipython3",
   "version": "3.6.0"
  }
 },
 "nbformat": 4,
 "nbformat_minor": 0
}
